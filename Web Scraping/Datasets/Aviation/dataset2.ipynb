{
 "cells": [
  {
   "cell_type": "code",
   "execution_count": 3,
   "metadata": {},
   "outputs": [],
   "source": [
    "import requests\n",
    "from unidecode import unidecode\n",
    "from bs4 import BeautifulSoup\n",
    "from concurrent.futures import ThreadPoolExecutor, as_completed"
   ]
  },
  {
   "cell_type": "code",
   "execution_count": 2,
   "metadata": {},
   "outputs": [],
   "source": [
    "db = \"https://asn.flightsafety.org/database/\"\n",
    "base = \"https://asn.flightsafety.org\"\n",
    "headers = {\n",
    "    'User-Agent': 'Mozilla/5.0 (Windows NT 10.0; Win64; x64) AppleWebKit/537.36 (KHTML, like Gecko) Chrome/91.0.4472.124 Safari/537.36',\n",
    "    'Accept': 'text/html,application/xhtml+xml,application/xml;q=0.9,image/webp,*/*;q=0.8',\n",
    "    'Accept-Language': 'en-US,en;q=0.5',\n",
    "    'Connection': 'keep-alive',\n",
    "}\n",
    "pg = requests.get(db, headers=headers)\n",
    "soup = BeautifulSoup(pg.content, \"lxml\")"
   ]
  },
  {
   "cell_type": "code",
   "execution_count": null,
   "metadata": {},
   "outputs": [],
   "source": [
    "#Extract all URLs from the database\n",
    "outer = []\n",
    "struct = soup.find_all('a')\n",
    "for a in struct:\n",
    "    try:\n",
    "        href = a['href']\n",
    "        if 'year' in href.lower():\n",
    "            outer.append(base + href)\n",
    "    except KeyError:\n",
    "        continue\n",
    "outer.pop(0)"
   ]
  },
  {
   "cell_type": "code",
   "execution_count": 5,
   "metadata": {},
   "outputs": [],
   "source": [
    "#Get inner page URLs\n",
    "inner = []\n",
    "for url in outer:\n",
    "    inner.append(url)\n",
    "    pg = requests.get(url, headers=headers)\n",
    "    sp  = BeautifulSoup(pg.content, \"lxml\")\n",
    "    pgnum = sp.find('div', class_='pagenumbers') \n",
    "    if pgnum:\n",
    "        links = pgnum.find_all('a')\n",
    "        inner.extend(base + link['href'] for link in links)\n",
    "    else:\n",
    "        continue   \n"
   ]
  },
  {
   "cell_type": "code",
   "execution_count": null,
   "metadata": {},
   "outputs": [],
   "source": [
    "#Obtain table URLs of incidence\n",
    "incident_urls = []\n",
    "for dir in inner:\n",
    "    pg = requests.get(dir, headers=headers)\n",
    "    sp  = BeautifulSoup(pg.content, \"lxml\")\n",
    "    tab = sp.find('table', class_='hp')\n",
    "    if tab:\n",
    "        rows = tab.find_all('tr')\n",
    "        for index, row in enumerate(rows):\n",
    "            cells = row.find_all('td')\n",
    "            if len(cells)>0:\n",
    "                incident_urls.append(base + cells[0].find('a')['href'])\n",
    "            else:\n",
    "                continue\n",
    "print(incident_urls)"
   ]
  },
  {
   "cell_type": "code",
   "execution_count": 47,
   "metadata": {},
   "outputs": [],
   "source": [
    "#Write URLs to txt file for re-use\n",
    "with open(\"incident_urls.txt\", \"w\") as f:\n",
    "    for url in incident_urls:\n",
    "        f.write(url + \"\\n\")"
   ]
  },
  {
   "cell_type": "code",
   "execution_count": null,
   "metadata": {},
   "outputs": [],
   "source": [
    "#Scrape the pages with the incidence information.\n",
    "def scrape_incident(url):\n",
    "    incident = {}\n",
    "    print(f'Visiting: {url}')\n",
    "    pg = requests.get(url, headers=headers)\n",
    "    sp = BeautifulSoup(pg.content, \"lxml\")\n",
    "    table = sp.find('table')\n",
    "    if table:\n",
    "        rows = table.find_all('tr')\n",
    "        for row in rows:\n",
    "            cells = row.find_all('td')\n",
    "            val = [cell.get_text(strip=True) for cell in cells]\n",
    "            if val[0] == 'Fatalities:':\n",
    "                fat = val[1].split('/')[0].split(':')[1].strip()\n",
    "                occ = val[1].split('/')[1].split(':')[1].strip()\n",
    "                incident['Fatalities'] = fat\n",
    "                incident['Occupants'] = occ\n",
    "            else:\n",
    "                incident[val[0].replace(\":\",\"\")] = val[1]\n",
    "    narr = sp.find_all('span')[-1].get_text(strip=True)\n",
    "    incident['Narrative'] = narr\n",
    "    print(incident)\n",
    "    return incident\n",
    "\n",
    "with open(\"incident_urls.txt\", \"r\") as f:\n",
    "    urls = [line.strip() for line in f]\n",
    "\n",
    "dataset = []\n",
    "try:\n",
    "    with ThreadPoolExecutor(max_workers=10) as executor:\n",
    "        futures = [executor.submit(scrape_incident, url) for url in urls]\n",
    "        for future in as_completed(futures):\n",
    "            try:\n",
    "                result = future.result()\n",
    "                dataset.append(result)\n",
    "            except Exception as e:\n",
    "                print(f\"Error: {e}\")\n",
    "except KeyboardInterrupt:\n",
    "    print(\"Keyboard interrupt received. Stopping threads...\")\n",
    "\n",
    "df = pd.DataFrame(dataset)"
   ]
  },
  {
   "cell_type": "code",
   "execution_count": 7,
   "metadata": {},
   "outputs": [],
   "source": [
    "df.to_csv('aviation_accidents.csv')"
   ]
  },
  {
   "cell_type": "code",
   "execution_count": 62,
   "metadata": {},
   "outputs": [],
   "source": [
    "#Data cleaning\n",
    "import pandas as pd\n",
    "import numpy as np\n",
    "from unidecode import unidecode\n",
    "import re\n",
    "\n",
    "df = pd.read_csv('aviation_accidents.csv',index_col=0)"
   ]
  },
  {
   "cell_type": "code",
   "execution_count": 63,
   "metadata": {},
   "outputs": [],
   "source": [
    "keys = [\n",
    "    'date',\n",
    "    'time',\n",
    "    'type',\n",
    "    'operator',\n",
    "    'registration',\n",
    "    'msn',\n",
    "    'yr_manufacture',\n",
    "    'engine',\n",
    "    'fatal',\n",
    "    'occup',\n",
    "    'other_fatal',\n",
    "    'damage',\n",
    "    'category',\n",
    "    'location',\n",
    "    'phase',\n",
    "    'nature',\n",
    "    'dep',\n",
    "    'dest',\n",
    "    'confid',\n",
    "    'narrative',\n",
    "    'tot_airframe_hrs',\n",
    "    'cycles',\n",
    "    'inv_agency'\n",
    "]\n"
   ]
  },
  {
   "cell_type": "code",
   "execution_count": 64,
   "metadata": {},
   "outputs": [],
   "source": [
    "#New column headers\n",
    "df.columns = keys\n",
    "df = df.drop(columns=['time'])"
   ]
  },
  {
   "cell_type": "code",
   "execution_count": 65,
   "metadata": {},
   "outputs": [],
   "source": [
    "#Replace non-UTF characters with ASCII equivalents\n",
    "df = df.map(lambda x: unidecode(x) if isinstance(x, str) else x)"
   ]
  },
  {
   "cell_type": "code",
   "execution_count": 66,
   "metadata": {},
   "outputs": [],
   "source": [
    "def fix_date(val):\n",
    "    try:\n",
    "        return pd.to_datetime(val, format=\"%A %d %B %Y\")\n",
    "    except Exception:\n",
    "        match = re.search(r\"\\b(\\d{4})\\b\", str(val))\n",
    "        if match:\n",
    "            return pd.to_datetime(match.group(1), format=\"%Y\")\n",
    "        else:\n",
    "            return pd.NaT\n",
    "        \n",
    "df['date'] = df['date'].apply(fix_date)\n",
    "df['yr_manufacture'] = df['yr_manufacture'].astype('Int64')"
   ]
  },
  {
   "cell_type": "code",
   "execution_count": 67,
   "metadata": {},
   "outputs": [],
   "source": [
    "df.replace('-', np.nan, inplace=True)"
   ]
  },
  {
   "cell_type": "code",
   "execution_count": null,
   "metadata": {},
   "outputs": [],
   "source": [
    "df"
   ]
  },
  {
   "cell_type": "code",
   "execution_count": 69,
   "metadata": {},
   "outputs": [],
   "source": [
    "df.to_csv('aviation.csv')"
   ]
  }
 ],
 "metadata": {
  "kernelspec": {
   "display_name": "venv",
   "language": "python",
   "name": "python3"
  },
  "language_info": {
   "codemirror_mode": {
    "name": "ipython",
    "version": 3
   },
   "file_extension": ".py",
   "mimetype": "text/x-python",
   "name": "python",
   "nbconvert_exporter": "python",
   "pygments_lexer": "ipython3",
   "version": "3.13.0"
  }
 },
 "nbformat": 4,
 "nbformat_minor": 2
}
