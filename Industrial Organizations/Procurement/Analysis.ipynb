{
 "cells": [
  {
   "cell_type": "code",
   "execution_count": 1,
   "metadata": {},
   "outputs": [],
   "source": [
    "import numpy as np\n",
    "import seaborn as sns\n",
    "import pandas as pd\n",
    "import matplotlib.pyplot as plt\n",
    "import pandas as pd\n",
    "from scipy.stats import gaussian_kde\n",
    "from statsmodels.distributions.empirical_distribution import ECDF\n",
    "from scipy.stats import t\n",
    "import plotly.express as px\n"
   ]
  },
  {
   "cell_type": "code",
   "execution_count": 2,
   "metadata": {},
   "outputs": [],
   "source": [
    "pd.set_option('display.max_rows', None)\n",
    "np.random.seed(2)"
   ]
  },
  {
   "cell_type": "code",
   "execution_count": 3,
   "metadata": {},
   "outputs": [],
   "source": [
    "custom_style = {\n",
    "    \"axes.facecolor\": \"white\",\n",
    "    \"grid.color\": \"lightgray\",\n",
    "    \"axes.grid\": True,\n",
    "    \"grid.linestyle\": \"--\"\n",
    "}\n",
    "sns.set_style(\"whitegrid\", custom_style)"
   ]
  },
  {
   "cell_type": "code",
   "execution_count": 4,
   "metadata": {},
   "outputs": [],
   "source": [
    "def pseudo_cdf(pseudo_values):\n",
    "    # Get the number of pseudo_values\n",
    "    length_ps = pseudo_values.shape[0]\n",
    "    # Initialize an array for the pseudo CDF\n",
    "    pseudo_cdf_distr = np.zeros_like(pseudo_values, dtype=float)\n",
    "\n",
    "    # Loop through each element in pseudo_values\n",
    "    for r in range(length_ps):\n",
    "        # Calculate the empirical CDF at the current element        \n",
    "        pseudo_cdf_distr[r] = (1/(length_ps)) * (1+np.where(pseudo_values == pseudo_values[r])[0][0])\n",
    "    return pseudo_cdf_distr\n",
    "\n",
    "def pseudo_pdf(pseudo_bids):\n",
    "    # Sort pseudo_bids\n",
    "    sorted_bids = np.sort(pseudo_bids)\n",
    "    \n",
    "    # Initialize arrays\n",
    "    pseudo_pdf = np.zeros_like(pseudo_bids)\n",
    "    triweightker = np.zeros_like(pseudo_bids)\n",
    "    obj_triw = np.zeros_like(pseudo_bids)\n",
    "\n",
    "    # Calculate delta\n",
    "    delta = 2.978 * 1.06 * (np.var(pseudo_bids)**(1/2))**(-1/6)\n",
    "\n",
    "    for r in range(len(pseudo_bids)):\n",
    "        triweightker[:] = 0\n",
    "        \n",
    "        # Calculate obj_triw\n",
    "        obj_triw[:] = (1/delta) * (sorted_bids - sorted_bids[r])\n",
    "        \n",
    "        # Calculate triweightker\n",
    "        triweightker = np.where(np.abs(obj_triw) <= 1, (35/32)*(1-obj_triw**2)**3, 0)\n",
    "        \n",
    "        # Calculate striweightker\n",
    "        striweightker = (1/delta) * np.sum(triweightker)\n",
    "        \n",
    "        # Calculate pseudo_pdf\n",
    "        pseudo_pdf[r] = (1/len(pseudo_bids)) * striweightker\n",
    "\n",
    "    return pseudo_pdf\n"
   ]
  },
  {
   "cell_type": "code",
   "execution_count": 5,
   "metadata": {},
   "outputs": [
    {
     "data": {
      "text/html": [
       "<div>\n",
       "<style scoped>\n",
       "    .dataframe tbody tr th:only-of-type {\n",
       "        vertical-align: middle;\n",
       "    }\n",
       "\n",
       "    .dataframe tbody tr th {\n",
       "        vertical-align: top;\n",
       "    }\n",
       "\n",
       "    .dataframe thead th {\n",
       "        text-align: right;\n",
       "    }\n",
       "</style>\n",
       "<table border=\"1\" class=\"dataframe\">\n",
       "  <thead>\n",
       "    <tr style=\"text-align: right;\">\n",
       "      <th></th>\n",
       "      <th>Auction</th>\n",
       "      <th>Num Bids</th>\n",
       "      <th>Eng</th>\n",
       "      <th>Lowest Bid</th>\n",
       "      <th>2_bid</th>\n",
       "      <th>3_bid</th>\n",
       "      <th>4_bid</th>\n",
       "      <th>5_bid</th>\n",
       "      <th>6_bid</th>\n",
       "      <th>7_bid</th>\n",
       "      <th>8_bid</th>\n",
       "      <th>9_bid</th>\n",
       "      <th>10_bid</th>\n",
       "    </tr>\n",
       "  </thead>\n",
       "  <tbody>\n",
       "    <tr>\n",
       "      <th>0</th>\n",
       "      <td>26055</td>\n",
       "      <td>2</td>\n",
       "      <td>1162614.00</td>\n",
       "      <td>1066564.50</td>\n",
       "      <td>1231284.0</td>\n",
       "      <td>NaN</td>\n",
       "      <td>NaN</td>\n",
       "      <td>NaN</td>\n",
       "      <td>NaN</td>\n",
       "      <td>NaN</td>\n",
       "      <td>NaN</td>\n",
       "      <td>NaN</td>\n",
       "      <td>NaN</td>\n",
       "    </tr>\n",
       "    <tr>\n",
       "      <th>1</th>\n",
       "      <td>20912</td>\n",
       "      <td>7</td>\n",
       "      <td>1800000.00</td>\n",
       "      <td>1747562.65</td>\n",
       "      <td>1870875.3</td>\n",
       "      <td>1878649.35</td>\n",
       "      <td>1889633.00</td>\n",
       "      <td>2391868.00</td>\n",
       "      <td>2397750.0</td>\n",
       "      <td>3325324.0</td>\n",
       "      <td>NaN</td>\n",
       "      <td>NaN</td>\n",
       "      <td>NaN</td>\n",
       "    </tr>\n",
       "    <tr>\n",
       "      <th>2</th>\n",
       "      <td>24881</td>\n",
       "      <td>2</td>\n",
       "      <td>2536283.06</td>\n",
       "      <td>2924208.00</td>\n",
       "      <td>3710384.2</td>\n",
       "      <td>NaN</td>\n",
       "      <td>NaN</td>\n",
       "      <td>NaN</td>\n",
       "      <td>NaN</td>\n",
       "      <td>NaN</td>\n",
       "      <td>NaN</td>\n",
       "      <td>NaN</td>\n",
       "      <td>NaN</td>\n",
       "    </tr>\n",
       "    <tr>\n",
       "      <th>3</th>\n",
       "      <td>24921</td>\n",
       "      <td>3</td>\n",
       "      <td>2800000.01</td>\n",
       "      <td>2895069.00</td>\n",
       "      <td>2988158.0</td>\n",
       "      <td>3898085.16</td>\n",
       "      <td>NaN</td>\n",
       "      <td>NaN</td>\n",
       "      <td>NaN</td>\n",
       "      <td>NaN</td>\n",
       "      <td>NaN</td>\n",
       "      <td>NaN</td>\n",
       "      <td>NaN</td>\n",
       "    </tr>\n",
       "    <tr>\n",
       "      <th>4</th>\n",
       "      <td>24063</td>\n",
       "      <td>5</td>\n",
       "      <td>4626079.20</td>\n",
       "      <td>3618938.30</td>\n",
       "      <td>3751213.5</td>\n",
       "      <td>3896707.40</td>\n",
       "      <td>4150364.02</td>\n",
       "      <td>4766033.32</td>\n",
       "      <td>NaN</td>\n",
       "      <td>NaN</td>\n",
       "      <td>NaN</td>\n",
       "      <td>NaN</td>\n",
       "      <td>NaN</td>\n",
       "    </tr>\n",
       "  </tbody>\n",
       "</table>\n",
       "</div>"
      ],
      "text/plain": [
       "  Auction  Num Bids         Eng  Lowest Bid      2_bid       3_bid  \\\n",
       "0   26055         2  1162614.00  1066564.50  1231284.0         NaN   \n",
       "1   20912         7  1800000.00  1747562.65  1870875.3  1878649.35   \n",
       "2   24881         2  2536283.06  2924208.00  3710384.2         NaN   \n",
       "3   24921         3  2800000.01  2895069.00  2988158.0  3898085.16   \n",
       "4   24063         5  4626079.20  3618938.30  3751213.5  3896707.40   \n",
       "\n",
       "        4_bid       5_bid      6_bid      7_bid  8_bid  9_bid  10_bid  \n",
       "0         NaN         NaN        NaN        NaN    NaN    NaN     NaN  \n",
       "1  1889633.00  2391868.00  2397750.0  3325324.0    NaN    NaN     NaN  \n",
       "2         NaN         NaN        NaN        NaN    NaN    NaN     NaN  \n",
       "3         NaN         NaN        NaN        NaN    NaN    NaN     NaN  \n",
       "4  4150364.02  4766033.32        NaN        NaN    NaN    NaN     NaN  "
      ]
     },
     "execution_count": 5,
     "metadata": {},
     "output_type": "execute_result"
    }
   ],
   "source": [
    "bids = pd.read_csv('bids_final.csv', index_col=0)\n",
    "bids = bids.dropna(axis=1, how='all')\n",
    "bids.head()"
   ]
  },
  {
   "cell_type": "code",
   "execution_count": 6,
   "metadata": {},
   "outputs": [
    {
     "name": "stdout",
     "output_type": "stream",
     "text": [
      "\\begin{tabular}{llll}\n",
      "\\toprule\n",
      " & Num Bids & Lowest Bid & Eng \\\\\n",
      "\\midrule\n",
      "count & 390.00 & 390.00 & 390.00 \\\\\n",
      "mean & 3.09 & 6157077.35 & 6127223.73 \\\\\n",
      "std & 1.65 & 9226448.21 & 8812221.49 \\\\\n",
      "min & 1.00 & 121174.00 & 92317.00 \\\\\n",
      "25% & 2.00 & 1423956.65 & 1499349.00 \\\\\n",
      "50% & 3.00 & 3123113.17 & 3281924.38 \\\\\n",
      "75% & 4.00 & 7487125.60 & 7800000.00 \\\\\n",
      "max & 10.00 & 105158918.35 & 100925098.67 \\\\\n",
      "\\bottomrule\n",
      "\\end{tabular}\n",
      "\n"
     ]
    }
   ],
   "source": [
    "summary = bids[['Num Bids', 'Lowest Bid', 'Eng']].describe()\n",
    "rounded = summary.map(lambda x: f\"{x:.2f}\")\n",
    "latex_out = rounded.to_latex()\n",
    "print(latex_out)"
   ]
  },
  {
   "cell_type": "code",
   "execution_count": 7,
   "metadata": {},
   "outputs": [],
   "source": [
    "bids['Per/Est'] = round(((bids['Lowest Bid'] / bids['Eng'])-1) * 100, 2) #% of estimate"
   ]
  },
  {
   "cell_type": "code",
   "execution_count": 8,
   "metadata": {},
   "outputs": [
    {
     "data": {
      "image/png": "[encoded data removed]",
      "text/plain": [
       "<Figure size 800x600 with 1 Axes>"
      ]
     },
     "metadata": {},
     "output_type": "display_data"
    }
   ],
   "source": [
    "#Is there a relationship between number of bidders and percentage difference from engineering estimate?\n",
    "\n",
    "bids_a =  bids[bids['Num Bids'] != 10].copy()\n",
    "grouped_data = bids_a.groupby(\"Num Bids\")[\"Per/Est\"].agg([\"mean\", \"count\", \"std\"]).reset_index()\n",
    "grouped_data[\"t_critical\"] = grouped_data[\"count\"].apply(lambda n: t.ppf(0.975, df=n-1))  \n",
    "\n",
    "grouped_data[\"se\"] = grouped_data[\"std\"] / np.sqrt(grouped_data[\"count\"])  \n",
    "grouped_data[\"ci_lower\"] = grouped_data[\"mean\"] - grouped_data[\"t_critical\"] * grouped_data[\"se\"]\n",
    "grouped_data[\"ci_upper\"] = grouped_data[\"mean\"] + grouped_data[\"t_critical\"] * grouped_data[\"se\"]\n",
    "\n",
    "plt.figure(figsize=(8, 6))\n",
    "plt.plot(grouped_data[\"Num Bids\"], grouped_data[\"mean\"], linestyle=\"--\", color=\"blue\", zorder=4)\n",
    "\n",
    "plt.fill_between(\n",
    "    grouped_data[\"Num Bids\"],\n",
    "    grouped_data[\"ci_lower\"],\n",
    "    grouped_data[\"ci_upper\"],\n",
    "    color=\"blue\",\n",
    "    alpha=0.2,\n",
    "    label=\"95% Confidence Band\"\n",
    ")\n",
    "\n",
    "plt.title(\"Average Deviation from Engineering Estimate (%)\", fontsize=14)\n",
    "plt.xlabel(\"Number of Bids\", fontsize=12)\n",
    "plt.ylabel(\"Average Deviation (%)\", fontsize=12)\n",
    "plt.grid(alpha=0.5)\n",
    "plt.legend()\n",
    "plt.show()\n"
   ]
  },
  {
   "cell_type": "code",
   "execution_count": 9,
   "metadata": {},
   "outputs": [
    {
     "data": {
      "application/vnd.plotly.v1+json": {
       "config": {
        "plotlyServerURL": "https://plot.ly"
       },
       "data": [
        {
         "customdata": [
          [
           "26055"
          ],
          [
           "20912"
          ],
          [
           "24881"
          ],
          [
           "24921"
          ],
          [
           "24063"
          ],
          [
           "24610"
          ],
          [
           "22903"
          ],
          [
           "24935"
          ],
          [
           "24395"
          ],
          [
           "23601"
          ],
          [
           "23537"
          ],
          [
           "24993"
          ],
          [
           "26355"
          ],
          [
           "24224"
          ],
          [
           "24199"
          ],
          [
           "25137"
          ],
          [
           "25850"
          ],
          [
           "22193"
          ],
          [
           "26036"
          ],
          [
           "26244"
          ],
          [
           "25120"
          ],
          [
           "21855"
          ],
          [
           "24229"
          ],
          [
           "21400"
          ],
          [
           "25295"
          ],
          [
           "23612"
          ],
          [
           "22020"
          ],
          [
           "25942"
          ],
          [
           "26270"
          ],
          [
           "24971"
          ],
          [
           "25071"
          ],
          [
           "22992"
          ],
          [
           "26419"
          ],
          [
           "25538"
          ],
          [
           "25279"
          ],
          [
           "26438"
          ],
          [
           "24208"
          ],
          [
           "24414"
          ],
          [
           "24394"
          ],
          [
           "24646"
          ],
          [
           "25668"
          ],
          [
           "24795"
          ],
          [
           "25293"
          ],
          [
           "22036"
          ],
          [
           "24412"
          ],
          [
           "24167"
          ],
          [
           "24639"
          ],
          [
           "23688"
          ],
          [
           "25276"
          ],
          [
           "24872"
          ],
          [
           "20986"
          ],
          [
           "22338"
          ],
          [
           "23817"
          ],
          [
           "24673"
          ],
          [
           "25817"
          ],
          [
           "24994"
          ],
          [
           "26262"
          ],
          [
           "23327"
          ],
          [
           "25478"
          ],
          [
           "23115"
          ],
          [
           "24416"
          ],
          [
           "23535"
          ],
          [
           "25016"
          ],
          [
           "21591"
          ],
          [
           "25354"
          ],
          [
           "22702"
          ],
          [
           "24509"
          ],
          [
           "24200"
          ],
          [
           "24171"
          ],
          [
           "21222"
          ],
          [
           "20896"
          ],
          [
           "24884"
          ],
          [
           "23698"
          ],
          [
           "25140"
          ],
          [
           "24667"
          ],
          [
           "24015"
          ],
          [
           "23623"
          ],
          [
           "26328"
          ],
          [
           "24666"
          ],
          [
           "25524"
          ],
          [
           "24092"
          ],
          [
           "23544"
          ],
          [
           "22547"
          ],
          [
           "23475"
          ],
          [
           "24032"
          ],
          [
           "23871"
          ],
          [
           "20169"
          ],
          [
           "21472"
          ],
          [
           "25035"
          ],
          [
           "26352"
          ],
          [
           "24951"
          ],
          [
           "23971"
          ],
          [
           "24672"
          ],
          [
           "23110"
          ],
          [
           "25561"
          ],
          [
           "24894"
          ],
          [
           "22381"
          ],
          [
           "25037"
          ],
          [
           "26054"
          ],
          [
           "24247"
          ],
          [
           "24769"
          ],
          [
           "20706"
          ],
          [
           "24198"
          ],
          [
           "24193"
          ],
          [
           "25974"
          ],
          [
           "24142"
          ],
          [
           "25277"
          ],
          [
           "21801"
          ],
          [
           "24955"
          ],
          [
           "24477"
          ],
          [
           "23064"
          ],
          [
           "22629"
          ],
          [
           "23592"
          ],
          [
           "24885"
          ],
          [
           "24772"
          ],
          [
           "24678"
          ],
          [
           "23505"
          ],
          [
           "24405"
          ],
          [
           "23468"
          ],
          [
           "24670"
          ],
          [
           "26275"
          ],
          [
           "25317"
          ],
          [
           "24037"
          ],
          [
           "23061"
          ],
          [
           "24544"
          ],
          [
           "25447"
          ],
          [
           "23758"
          ],
          [
           "25859"
          ],
          [
           "20960"
          ],
          [
           "23873"
          ],
          [
           "24954"
          ],
          [
           "24878"
          ],
          [
           "24599"
          ],
          [
           "26343"
          ],
          [
           "23443"
          ],
          [
           "22465"
          ],
          [
           "26578"
          ],
          [
           "23019"
          ],
          [
           "23499"
          ],
          [
           "25205"
          ],
          [
           "23292"
          ],
          [
           "21556"
          ],
          [
           "26311"
          ],
          [
           "23697"
          ],
          [
           "25166"
          ],
          [
           "25444"
          ],
          [
           "22529"
          ],
          [
           "25124"
          ],
          [
           "24658"
          ],
          [
           "24887"
          ],
          [
           "23191"
          ],
          [
           "25708"
          ],
          [
           "22247"
          ],
          [
           "21191"
          ],
          [
           "25855"
          ],
          [
           "26617"
          ],
          [
           "24966"
          ],
          [
           "24770"
          ],
          [
           "24166"
          ],
          [
           "24905"
          ],
          [
           "23583"
          ],
          [
           "24039"
          ],
          [
           "21825"
          ],
          [
           "21657"
          ],
          [
           "24425"
          ],
          [
           "24036"
          ],
          [
           "25542"
          ],
          [
           "23862"
          ],
          [
           "24956"
          ],
          [
           "25873"
          ],
          [
           "25036"
          ],
          [
           "23465"
          ],
          [
           "24682"
          ],
          [
           "25236"
          ],
          [
           "24620"
          ],
          [
           "23513"
          ],
          [
           "24237"
          ],
          [
           "23423"
          ],
          [
           "24889"
          ],
          [
           "19164"
          ],
          [
           "24417"
          ],
          [
           "22601"
          ],
          [
           "24674"
          ],
          [
           "25672"
          ],
          [
           "23509"
          ],
          [
           "24184"
          ],
          [
           "24463"
          ],
          [
           "26050"
          ],
          [
           "23838"
          ],
          [
           "24415"
          ],
          [
           "25499"
          ],
          [
           "25737"
          ],
          [
           "23192"
          ],
          [
           "25263"
          ],
          [
           "23444"
          ],
          [
           "23557"
          ],
          [
           "19771"
          ],
          [
           "24238"
          ],
          [
           "23861"
          ],
          [
           "24902"
          ],
          [
           "25663"
          ],
          [
           "20907"
          ],
          [
           "24464"
          ],
          [
           "24375"
          ],
          [
           "23160"
          ],
          [
           "24957"
          ],
          [
           "24771"
          ],
          [
           "25918"
          ],
          [
           "25921"
          ],
          [
           "24680"
          ],
          [
           "23689"
          ],
          [
           "21415"
          ],
          [
           "24321"
          ],
          [
           "25874"
          ],
          [
           "23621"
          ],
          [
           "21791"
          ],
          [
           "23176"
          ],
          [
           "24535"
          ],
          [
           "25463"
          ],
          [
           "25151"
          ],
          [
           "21837"
          ],
          [
           "24148"
          ],
          [
           "25832"
          ],
          [
           "25789"
          ],
          [
           "23542"
          ],
          [
           "24598"
          ],
          [
           "25541"
          ],
          [
           "25602"
          ],
          [
           "25081"
          ],
          [
           "24017"
          ],
          [
           "22242"
          ],
          [
           "26259"
          ],
          [
           "24057"
          ],
          [
           "23560"
          ],
          [
           "24311"
          ],
          [
           "23546"
          ],
          [
           "24668"
          ],
          [
           "24232"
          ],
          [
           "22953"
          ],
          [
           "25086"
          ],
          [
           "22350"
          ],
          [
           "24684"
          ],
          [
           "25280"
          ],
          [
           "24418"
          ],
          [
           "25613"
          ],
          [
           "25441"
          ],
          [
           "22827"
          ],
          [
           "25089"
          ],
          [
           "24518"
          ],
          [
           "24279"
          ],
          [
           "25093"
          ],
          [
           "23567"
          ],
          [
           "23541"
          ],
          [
           "26357"
          ],
          [
           "24622"
          ],
          [
           "25641"
          ],
          [
           "23497"
          ],
          [
           "20867"
          ],
          [
           "24263"
          ],
          [
           "25670"
          ],
          [
           "22437"
          ],
          [
           "23585"
          ],
          [
           "23485"
          ],
          [
           "23112"
          ],
          [
           "23186"
          ],
          [
           "21211"
          ],
          [
           "23075"
          ],
          [
           "22188"
          ],
          [
           "22570"
          ],
          [
           "23435"
          ],
          [
           "24245"
          ],
          [
           "23903"
          ],
          [
           "23036"
          ],
          [
           "23419"
          ],
          [
           "22399"
          ],
          [
           "21750"
          ],
          [
           "24323"
          ],
          [
           "22966"
          ],
          [
           "23239"
          ],
          [
           "21829"
          ],
          [
           "24427"
          ],
          [
           "24075"
          ],
          [
           "22479"
          ],
          [
           "22734"
          ],
          [
           "20787"
          ],
          [
           "24400"
          ],
          [
           "24319"
          ],
          [
           "23843"
          ],
          [
           "21776"
          ],
          [
           "23495"
          ],
          [
           "21324"
          ],
          [
           "24491"
          ],
          [
           "21866ra"
          ],
          [
           "22435"
          ],
          [
           "20900"
          ],
          [
           "24381"
          ],
          [
           "24507"
          ],
          [
           "21982"
          ],
          [
           "23126"
          ],
          [
           "23425"
          ],
          [
           "22839"
          ],
          [
           "22476"
          ],
          [
           "24254"
          ],
          [
           "21851"
          ],
          [
           "21015"
          ],
          [
           "21832"
          ],
          [
           "22859"
          ],
          [
           "20895"
          ],
          [
           "23421r"
          ],
          [
           "23189"
          ],
          [
           "22372"
          ],
          [
           "24653"
          ],
          [
           "19263"
          ],
          [
           "23668"
          ],
          [
           "22533"
          ],
          [
           "23676r"
          ],
          [
           "23653"
          ],
          [
           "22495"
          ],
          [
           "22975"
          ],
          [
           "21861"
          ],
          [
           "23522"
          ],
          [
           "21854"
          ],
          [
           "24206"
          ],
          [
           "23699"
          ],
          [
           "23506"
          ],
          [
           "22810"
          ],
          [
           "20821"
          ],
          [
           "24095"
          ],
          [
           "24304"
          ],
          [
           "23125"
          ],
          [
           "22949"
          ],
          [
           "23134"
          ],
          [
           "23673"
          ],
          [
           "22085"
          ],
          [
           "23280"
          ],
          [
           "23037"
          ],
          [
           "22555"
          ],
          [
           "23062"
          ],
          [
           "23426"
          ],
          [
           "20694"
          ],
          [
           "24074"
          ],
          [
           "20628"
          ],
          [
           "22368r"
          ],
          [
           "20952"
          ],
          [
           "23399"
          ],
          [
           "22996"
          ],
          [
           "24251"
          ],
          [
           "23103"
          ],
          [
           "23060"
          ],
          [
           "22166"
          ],
          [
           "24244"
          ],
          [
           "24428"
          ],
          [
           "24297"
          ],
          [
           "24141"
          ],
          [
           "23124"
          ],
          [
           "22865"
          ],
          [
           "24500"
          ],
          [
           "22796"
          ],
          [
           "20121"
          ],
          [
           "24338"
          ],
          [
           "24367"
          ],
          [
           "22943"
          ],
          [
           "23490"
          ],
          [
           "23321r"
          ],
          [
           "20898"
          ],
          [
           "22995"
          ],
          [
           "23500"
          ],
          [
           "22712"
          ],
          [
           "21986"
          ],
          [
           "24093"
          ],
          [
           "23355"
          ],
          [
           "23605"
          ],
          [
           "22845"
          ],
          [
           "23675"
          ],
          [
           "24472"
          ],
          [
           "23067"
          ],
          [
           "24053r"
          ],
          [
           "23169"
          ],
          [
           "23841"
          ],
          [
           "23922r"
          ],
          [
           "22210"
          ],
          [
           "22443"
          ],
          [
           "21572"
          ],
          [
           "21795"
          ],
          [
           "21907"
          ],
          [
           "23178"
          ],
          [
           "23005"
          ],
          [
           "24062"
          ],
          [
           "17881c"
          ],
          [
           "23865"
          ]
         ],
         "hovertemplate": "Num Bids=%{x}<br>Lowest Bid=%{y}<br>Auction=%{customdata[0]}<extra></extra>",
         "legendgroup": "",
         "marker": {
          "color": "#636efa",
          "symbol": "circle"
         },
         "mode": "markers",
         "name": "",
         "orientation": "v",
         "showlegend": false,
         "type": "scatter",
         "x": [
          2,
          7,
          2,
          3,
          5,
          8,
          2,
          2,
          3,
          3,
          4,
          4,
          1,
          6,
          6,
          3,
          3,
          2,
          2,
          1,
          2,
          5,
          2,
          2,
          1,
          3,
          3,
          3,
          5,
          2,
          3,
          1,
          1,
          6,
          2,
          5,
          3,
          1,
          1,
          5,
          2,
          3,
          5,
          5,
          1,
          1,
          5,
          2,
          1,
          1,
          4,
          4,
          3,
          2,
          1,
          3,
          3,
          4,
          1,
          1,
          2,
          4,
          3,
          2,
          4,
          1,
          4,
          5,
          3,
          3,
          4,
          3,
          5,
          5,
          3,
          3,
          2,
          3,
          7,
          3,
          2,
          8,
          8,
          2,
          6,
          3,
          4,
          4,
          3,
          3,
          2,
          3,
          2,
          2,
          2,
          1,
          5,
          4,
          5,
          3,
          4,
          3,
          2,
          3,
          6,
          2,
          4,
          4,
          2,
          2,
          1,
          4,
          2,
          4,
          1,
          2,
          1,
          1,
          4,
          3,
          1,
          4,
          3,
          3,
          2,
          1,
          4,
          4,
          3,
          4,
          2,
          4,
          2,
          3,
          3,
          1,
          5,
          1,
          2,
          1,
          2,
          3,
          3,
          3,
          1,
          2,
          7,
          3,
          3,
          6,
          2,
          3,
          3,
          3,
          2,
          2,
          2,
          2,
          2,
          2,
          1,
          4,
          3,
          5,
          4,
          3,
          3,
          4,
          3,
          1,
          1,
          4,
          3,
          2,
          7,
          2,
          2,
          2,
          2,
          6,
          5,
          4,
          2,
          1,
          5,
          1,
          2,
          2,
          1,
          3,
          3,
          1,
          2,
          2,
          3,
          5,
          4,
          3,
          2,
          3,
          2,
          4,
          5,
          1,
          1,
          1,
          3,
          6,
          5,
          2,
          4,
          2,
          7,
          2,
          3,
          3,
          1,
          4,
          2,
          3,
          2,
          5,
          3,
          1,
          3,
          3,
          2,
          5,
          4,
          3,
          1,
          4,
          6,
          2,
          3,
          2,
          2,
          1,
          5,
          2,
          4,
          2,
          2,
          2,
          5,
          2,
          4,
          4,
          1,
          4,
          3,
          4,
          2,
          3,
          4,
          5,
          2,
          1,
          3,
          3,
          5,
          4,
          7,
          2,
          7,
          5,
          2,
          2,
          3,
          4,
          3,
          3,
          2,
          3,
          6,
          3,
          4,
          2,
          3,
          1,
          4,
          1,
          1,
          4,
          6,
          1,
          3,
          1,
          2,
          7,
          5,
          2,
          2,
          3,
          6,
          2,
          3,
          3,
          3,
          3,
          3,
          2,
          1,
          5,
          1,
          3,
          4,
          3,
          5,
          3,
          2,
          4,
          6,
          4,
          4,
          3,
          5,
          3,
          1,
          3,
          7,
          2,
          1,
          1,
          5,
          1,
          5,
          4,
          1,
          3,
          4,
          2,
          6,
          2,
          5,
          4,
          2,
          2,
          1,
          6,
          4,
          4,
          4,
          4,
          3,
          3,
          1,
          2,
          2,
          2,
          6,
          2,
          1,
          4,
          2,
          10,
          3,
          4,
          2,
          3,
          1,
          1,
          3,
          5,
          2,
          10,
          3,
          1,
          5,
          3,
          3,
          1,
          3,
          2,
          3,
          4,
          2,
          6,
          1,
          4,
          3,
          3,
          3,
          1,
          6,
          3,
          8,
          3,
          3,
          4
         ],
         "xaxis": "x",
         "y": [
          1066564.5,
          1747562.65,
          2924208,
          2895069,
          3618938.3,
          45965236,
          39607433.98,
          1636786,
          10512989.35,
          7017550,
          4120979.48,
          693730,
          1674070.3,
          8981782.6,
          5486435.9,
          1548999,
          1887265,
          21890679.16,
          555495,
          2493062.25,
          545861.5,
          3098847.35,
          7080420.17,
          5635899.39,
          414867.88,
          1540725.1,
          18991815.84,
          7902793.1,
          1848479,
          12661159.85,
          4080829.29,
          12263410.53,
          986914.05,
          2321547.11,
          438107,
          784132.96,
          14314966.6,
          5520588.7,
          1186600.16,
          670297,
          1222402,
          558097.5,
          1646566.34,
          5441723.08,
          749206,
          1194545,
          1992436.8,
          693896.87,
          2989418.49,
          2745838.9,
          3780958.22,
          4977656.25,
          8656532.96,
          1469215,
          4074430.23,
          324225,
          513949,
          5039495.35,
          4923812.7,
          2240000,
          916269,
          105158918.35,
          448255.86,
          4696233.75,
          2131163.07,
          1096643.8,
          2497837,
          5111254.25,
          6877563.45,
          3070798.76,
          2827827,
          17339986.92,
          1853073.44,
          2545678.1,
          6596527,
          4956044.15,
          744942,
          505000,
          9900432.72,
          328376.56,
          14126484.41,
          1697000,
          13166577.55,
          9490148.53,
          1223303.25,
          748495,
          6735433.99,
          12879789.35,
          1518388.73,
          2893852.87,
          646748,
          289870,
          244433,
          9208179.5,
          7438813,
          47957757.02,
          26917300,
          20899040.68,
          1388960.34,
          3297815.15,
          1564170,
          1400000,
          5695695.99,
          12723069.27,
          1520811.25,
          3855000,
          2191362,
          4704411.4,
          2089265,
          2118114,
          715000,
          5098771,
          6154075.8,
          1190000,
          1634083,
          7750316.1,
          9280171.97,
          4432957.09,
          13997628.23,
          9157473,
          15719271.04,
          1291761.85,
          174037,
          10674323.88,
          7922323.51,
          4185920.67,
          4430539.3,
          15810821.36,
          6056197.46,
          679000,
          4806630.45,
          2475000,
          3369252.14,
          443963.2,
          1742097,
          12796063.7,
          423380,
          6514608.17,
          6686562.84,
          3801536.05,
          2854417.85,
          22317300,
          4877179.8,
          6997892.42,
          3507949.39,
          2546291.82,
          19126166,
          1476110.2,
          4128231,
          11942392.41,
          2095832,
          3295983.8,
          2097272.44,
          6049464.37,
          2887896.79,
          637922.5,
          512963,
          1168613,
          6632329.84,
          36536568.67,
          19290622.35,
          2938959.5,
          2019305,
          2330855.24,
          4523363.45,
          7525598.82,
          10791598.34,
          9459567.99,
          2824931.56,
          1348751.9,
          6657728.1,
          4300000,
          14264485.27,
          4408676.5,
          18405711.55,
          13523000,
          5028719.8,
          6035626.55,
          8097729.83,
          2595839,
          34726159.27,
          8951969.26,
          1419926.3,
          145553.23,
          5188517.45,
          3032752,
          348232,
          145265.11,
          8447636,
          704678.03,
          566501,
          3147379,
          1957891,
          1141961.9,
          1677136.45,
          7499484.8,
          3776448.13,
          1165615.42,
          15506616.6,
          1202622.29,
          1105958.3,
          3775000,
          6229334.71,
          7587094,
          11946689.77,
          11849087.88,
          2256065,
          3292634.21,
          10329636,
          2200000,
          1351993,
          16532414.25,
          4029066.8,
          1814282,
          2035000,
          6297433.64,
          8097793.64,
          1898279,
          517741,
          1850028,
          8614391.16,
          2276811.91,
          2588099.25,
          1982586.35,
          5420000,
          1961623.67,
          1848693,
          802142.5,
          1764435.35,
          1716817,
          2021561.69,
          1764960.5,
          17879000,
          14324912.69,
          11244775.2,
          17781881.53,
          1341361,
          1847077.3,
          706289,
          894364,
          19259072.45,
          2499779.84,
          23979880,
          5897002.35,
          430695.9,
          2299436,
          49068138.24,
          3897678.07,
          4644427.21,
          3896461,
          21867076.31,
          8027827.75,
          2012665.1,
          497229.68,
          11696658.61,
          1311279,
          7358619.25,
          16494822,
          4623000,
          837006,
          1068716,
          2154630.7,
          4942712.29,
          1832965,
          1710210.16,
          2841807.59,
          8973056.7,
          1790122,
          3594120.5,
          686000,
          429287.6,
          627740.25,
          806793,
          483000,
          3779170,
          5021334.65,
          3872991.27,
          10440648,
          11321034.99,
          1349912,
          392790,
          1232369.26,
          5284284,
          8665314,
          2152785.9,
          30593034.49,
          3246759.3,
          9775659.09,
          4636611,
          4617588.27,
          12336881,
          405363.9,
          2163761.4,
          1247572,
          1231602.06,
          769386.25,
          1436047.7,
          5157481.9,
          6394977.35,
          2173763.5,
          7450048,
          2429999.84,
          539237,
          3519000,
          1568200.9,
          827581.25,
          1127477,
          1975896.5,
          4148547.3,
          9731000,
          947425.8,
          467197.75,
          5353935.5,
          1924290,
          4882214.18,
          1400899,
          375686,
          2728344,
          5272554.68,
          1734605.84,
          26311514.56,
          5995456.29,
          8482053,
          1135158,
          9098756.76,
          3289092.32,
          3225150.78,
          450626.5,
          7041298.06,
          2777487.83,
          839139,
          8716110.25,
          9258933.37,
          6242111.75,
          2242550,
          1453444.63,
          13545234,
          2778251,
          121174,
          1412234.07,
          2115675,
          3165324,
          4489543,
          2241203,
          1287611,
          6178722.86,
          8666684.84,
          9185527.9,
          6331944.2,
          1233396.66,
          3243201.55,
          258100,
          4233606.16,
          2999921.82,
          2885726.1,
          2627599.45,
          1763226,
          4251133.2,
          13278578.8,
          2183681.75,
          10418752.22,
          12613255.77,
          21982066.35,
          6134943.74,
          825874.03,
          1373919.9,
          8032745.27,
          11537166.8,
          13636670.6,
          996991.45,
          900069,
          18285665.17,
          6421280.1,
          2755466,
          2621686.25,
          7018011.26,
          2264126,
          8210403.86,
          64489476.5,
          1100750,
          9696572.28,
          384987.5,
          4047183.1,
          11566137.7,
          28491838.57,
          12833876.9,
          1192142.1,
          473829,
          26104984.43,
          1086039
         ],
         "yaxis": "y"
        }
       ],
       "layout": {
        "legend": {
         "tracegroupgap": 0
        },
        "template": {
         "data": {
          "bar": [
           {
            "error_x": {
             "color": "#2a3f5f"
            },
            "error_y": {
             "color": "#2a3f5f"
            },
            "marker": {
             "line": {
              "color": "#E5ECF6",
              "width": 0.5
             },
             "pattern": {
              "fillmode": "overlay",
              "size": 10,
              "solidity": 0.2
             }
            },
            "type": "bar"
           }
          ],
          "barpolar": [
           {
            "marker": {
             "line": {
              "color": "#E5ECF6",
              "width": 0.5
             },
             "pattern": {
              "fillmode": "overlay",
              "size": 10,
              "solidity": 0.2
             }
            },
            "type": "barpolar"
           }
          ],
          "carpet": [
           {
            "aaxis": {
             "endlinecolor": "#2a3f5f",
             "gridcolor": "white",
             "linecolor": "white",
             "minorgridcolor": "white",
             "startlinecolor": "#2a3f5f"
            },
            "baxis": {
             "endlinecolor": "#2a3f5f",
             "gridcolor": "white",
             "linecolor": "white",
             "minorgridcolor": "white",
             "startlinecolor": "#2a3f5f"
            },
            "type": "carpet"
           }
          ],
          "choropleth": [
           {
            "colorbar": {
             "outlinewidth": 0,
             "ticks": ""
            },
            "type": "choropleth"
           }
          ],
          "contour": [
           {
            "colorbar": {
             "outlinewidth": 0,
             "ticks": ""
            },
            "colorscale": [
             [
              0,
              "#0d0887"
             ],
             [
              0.1111111111111111,
              "#46039f"
             ],
             [
              0.2222222222222222,
              "#7201a8"
             ],
             [
              0.3333333333333333,
              "#9c179e"
             ],
             [
              0.4444444444444444,
              "#bd3786"
             ],
             [
              0.5555555555555556,
              "#d8576b"
             ],
             [
              0.6666666666666666,
              "#ed7953"
             ],
             [
              0.7777777777777778,
              "#fb9f3a"
             ],
             [
              0.8888888888888888,
              "#fdca26"
             ],
             [
              1,
              "#f0f921"
             ]
            ],
            "type": "contour"
           }
          ],
          "contourcarpet": [
           {
            "colorbar": {
             "outlinewidth": 0,
             "ticks": ""
            },
            "type": "contourcarpet"
           }
          ],
          "heatmap": [
           {
            "colorbar": {
             "outlinewidth": 0,
             "ticks": ""
            },
            "colorscale": [
             [
              0,
              "#0d0887"
             ],
             [
              0.1111111111111111,
              "#46039f"
             ],
             [
              0.2222222222222222,
              "#7201a8"
             ],
             [
              0.3333333333333333,
              "#9c179e"
             ],
             [
              0.4444444444444444,
              "#bd3786"
             ],
             [
              0.5555555555555556,
              "#d8576b"
             ],
             [
              0.6666666666666666,
              "#ed7953"
             ],
             [
              0.7777777777777778,
              "#fb9f3a"
             ],
             [
              0.8888888888888888,
              "#fdca26"
             ],
             [
              1,
              "#f0f921"
             ]
            ],
            "type": "heatmap"
           }
          ],
          "heatmapgl": [
           {
            "colorbar": {
             "outlinewidth": 0,
             "ticks": ""
            },
            "colorscale": [
             [
              0,
              "#0d0887"
             ],
             [
              0.1111111111111111,
              "#46039f"
             ],
             [
              0.2222222222222222,
              "#7201a8"
             ],
             [
              0.3333333333333333,
              "#9c179e"
             ],
             [
              0.4444444444444444,
              "#bd3786"
             ],
             [
              0.5555555555555556,
              "#d8576b"
             ],
             [
              0.6666666666666666,
              "#ed7953"
             ],
             [
              0.7777777777777778,
              "#fb9f3a"
             ],
             [
              0.8888888888888888,
              "#fdca26"
             ],
             [
              1,
              "#f0f921"
             ]
            ],
            "type": "heatmapgl"
           }
          ],
          "histogram": [
           {
            "marker": {
             "pattern": {
              "fillmode": "overlay",
              "size": 10,
              "solidity": 0.2
             }
            },
            "type": "histogram"
           }
          ],
          "histogram2d": [
           {
            "colorbar": {
             "outlinewidth": 0,
             "ticks": ""
            },
            "colorscale": [
             [
              0,
              "#0d0887"
             ],
             [
              0.1111111111111111,
              "#46039f"
             ],
             [
              0.2222222222222222,
              "#7201a8"
             ],
             [
              0.3333333333333333,
              "#9c179e"
             ],
             [
              0.4444444444444444,
              "#bd3786"
             ],
             [
              0.5555555555555556,
              "#d8576b"
             ],
             [
              0.6666666666666666,
              "#ed7953"
             ],
             [
              0.7777777777777778,
              "#fb9f3a"
             ],
             [
              0.8888888888888888,
              "#fdca26"
             ],
             [
              1,
              "#f0f921"
             ]
            ],
            "type": "histogram2d"
           }
          ],
          "histogram2dcontour": [
           {
            "colorbar": {
             "outlinewidth": 0,
             "ticks": ""
            },
            "colorscale": [
             [
              0,
              "#0d0887"
             ],
             [
              0.1111111111111111,
              "#46039f"
             ],
             [
              0.2222222222222222,
              "#7201a8"
             ],
             [
              0.3333333333333333,
              "#9c179e"
             ],
             [
              0.4444444444444444,
              "#bd3786"
             ],
             [
              0.5555555555555556,
              "#d8576b"
             ],
             [
              0.6666666666666666,
              "#ed7953"
             ],
             [
              0.7777777777777778,
              "#fb9f3a"
             ],
             [
              0.8888888888888888,
              "#fdca26"
             ],
             [
              1,
              "#f0f921"
             ]
            ],
            "type": "histogram2dcontour"
           }
          ],
          "mesh3d": [
           {
            "colorbar": {
             "outlinewidth": 0,
             "ticks": ""
            },
            "type": "mesh3d"
           }
          ],
          "parcoords": [
           {
            "line": {
             "colorbar": {
              "outlinewidth": 0,
              "ticks": ""
             }
            },
            "type": "parcoords"
           }
          ],
          "pie": [
           {
            "automargin": true,
            "type": "pie"
           }
          ],
          "scatter": [
           {
            "fillpattern": {
             "fillmode": "overlay",
             "size": 10,
             "solidity": 0.2
            },
            "type": "scatter"
           }
          ],
          "scatter3d": [
           {
            "line": {
             "colorbar": {
              "outlinewidth": 0,
              "ticks": ""
             }
            },
            "marker": {
             "colorbar": {
              "outlinewidth": 0,
              "ticks": ""
             }
            },
            "type": "scatter3d"
           }
          ],
          "scattercarpet": [
           {
            "marker": {
             "colorbar": {
              "outlinewidth": 0,
              "ticks": ""
             }
            },
            "type": "scattercarpet"
           }
          ],
          "scattergeo": [
           {
            "marker": {
             "colorbar": {
              "outlinewidth": 0,
              "ticks": ""
             }
            },
            "type": "scattergeo"
           }
          ],
          "scattergl": [
           {
            "marker": {
             "colorbar": {
              "outlinewidth": 0,
              "ticks": ""
             }
            },
            "type": "scattergl"
           }
          ],
          "scattermapbox": [
           {
            "marker": {
             "colorbar": {
              "outlinewidth": 0,
              "ticks": ""
             }
            },
            "type": "scattermapbox"
           }
          ],
          "scatterpolar": [
           {
            "marker": {
             "colorbar": {
              "outlinewidth": 0,
              "ticks": ""
             }
            },
            "type": "scatterpolar"
           }
          ],
          "scatterpolargl": [
           {
            "marker": {
             "colorbar": {
              "outlinewidth": 0,
              "ticks": ""
             }
            },
            "type": "scatterpolargl"
           }
          ],
          "scatterternary": [
           {
            "marker": {
             "colorbar": {
              "outlinewidth": 0,
              "ticks": ""
             }
            },
            "type": "scatterternary"
           }
          ],
          "surface": [
           {
            "colorbar": {
             "outlinewidth": 0,
             "ticks": ""
            },
            "colorscale": [
             [
              0,
              "#0d0887"
             ],
             [
              0.1111111111111111,
              "#46039f"
             ],
             [
              0.2222222222222222,
              "#7201a8"
             ],
             [
              0.3333333333333333,
              "#9c179e"
             ],
             [
              0.4444444444444444,
              "#bd3786"
             ],
             [
              0.5555555555555556,
              "#d8576b"
             ],
             [
              0.6666666666666666,
              "#ed7953"
             ],
             [
              0.7777777777777778,
              "#fb9f3a"
             ],
             [
              0.8888888888888888,
              "#fdca26"
             ],
             [
              1,
              "#f0f921"
             ]
            ],
            "type": "surface"
           }
          ],
          "table": [
           {
            "cells": {
             "fill": {
              "color": "#EBF0F8"
             },
             "line": {
              "color": "white"
             }
            },
            "header": {
             "fill": {
              "color": "#C8D4E3"
             },
             "line": {
              "color": "white"
             }
            },
            "type": "table"
           }
          ]
         },
         "layout": {
          "annotationdefaults": {
           "arrowcolor": "#2a3f5f",
           "arrowhead": 0,
           "arrowwidth": 1
          },
          "autotypenumbers": "strict",
          "coloraxis": {
           "colorbar": {
            "outlinewidth": 0,
            "ticks": ""
           }
          },
          "colorscale": {
           "diverging": [
            [
             0,
             "#8e0152"
            ],
            [
             0.1,
             "#c51b7d"
            ],
            [
             0.2,
             "#de77ae"
            ],
            [
             0.3,
             "#f1b6da"
            ],
            [
             0.4,
             "#fde0ef"
            ],
            [
             0.5,
             "#f7f7f7"
            ],
            [
             0.6,
             "#e6f5d0"
            ],
            [
             0.7,
             "#b8e186"
            ],
            [
             0.8,
             "#7fbc41"
            ],
            [
             0.9,
             "#4d9221"
            ],
            [
             1,
             "#276419"
            ]
           ],
           "sequential": [
            [
             0,
             "#0d0887"
            ],
            [
             0.1111111111111111,
             "#46039f"
            ],
            [
             0.2222222222222222,
             "#7201a8"
            ],
            [
             0.3333333333333333,
             "#9c179e"
            ],
            [
             0.4444444444444444,
             "#bd3786"
            ],
            [
             0.5555555555555556,
             "#d8576b"
            ],
            [
             0.6666666666666666,
             "#ed7953"
            ],
            [
             0.7777777777777778,
             "#fb9f3a"
            ],
            [
             0.8888888888888888,
             "#fdca26"
            ],
            [
             1,
             "#f0f921"
            ]
           ],
           "sequentialminus": [
            [
             0,
             "#0d0887"
            ],
            [
             0.1111111111111111,
             "#46039f"
            ],
            [
             0.2222222222222222,
             "#7201a8"
            ],
            [
             0.3333333333333333,
             "#9c179e"
            ],
            [
             0.4444444444444444,
             "#bd3786"
            ],
            [
             0.5555555555555556,
             "#d8576b"
            ],
            [
             0.6666666666666666,
             "#ed7953"
            ],
            [
             0.7777777777777778,
             "#fb9f3a"
            ],
            [
             0.8888888888888888,
             "#fdca26"
            ],
            [
             1,
             "#f0f921"
            ]
           ]
          },
          "colorway": [
           "#636efa",
           "#EF553B",
           "#00cc96",
           "#ab63fa",
           "#FFA15A",
           "#19d3f3",
           "#FF6692",
           "#B6E880",
           "#FF97FF",
           "#FECB52"
          ],
          "font": {
           "color": "#2a3f5f"
          },
          "geo": {
           "bgcolor": "white",
           "lakecolor": "white",
           "landcolor": "#E5ECF6",
           "showlakes": true,
           "showland": true,
           "subunitcolor": "white"
          },
          "hoverlabel": {
           "align": "left"
          },
          "hovermode": "closest",
          "mapbox": {
           "style": "light"
          },
          "paper_bgcolor": "white",
          "plot_bgcolor": "#E5ECF6",
          "polar": {
           "angularaxis": {
            "gridcolor": "white",
            "linecolor": "white",
            "ticks": ""
           },
           "bgcolor": "#E5ECF6",
           "radialaxis": {
            "gridcolor": "white",
            "linecolor": "white",
            "ticks": ""
           }
          },
          "scene": {
           "xaxis": {
            "backgroundcolor": "#E5ECF6",
            "gridcolor": "white",
            "gridwidth": 2,
            "linecolor": "white",
            "showbackground": true,
            "ticks": "",
            "zerolinecolor": "white"
           },
           "yaxis": {
            "backgroundcolor": "#E5ECF6",
            "gridcolor": "white",
            "gridwidth": 2,
            "linecolor": "white",
            "showbackground": true,
            "ticks": "",
            "zerolinecolor": "white"
           },
           "zaxis": {
            "backgroundcolor": "#E5ECF6",
            "gridcolor": "white",
            "gridwidth": 2,
            "linecolor": "white",
            "showbackground": true,
            "ticks": "",
            "zerolinecolor": "white"
           }
          },
          "shapedefaults": {
           "line": {
            "color": "#2a3f5f"
           }
          },
          "ternary": {
           "aaxis": {
            "gridcolor": "white",
            "linecolor": "white",
            "ticks": ""
           },
           "baxis": {
            "gridcolor": "white",
            "linecolor": "white",
            "ticks": ""
           },
           "bgcolor": "#E5ECF6",
           "caxis": {
            "gridcolor": "white",
            "linecolor": "white",
            "ticks": ""
           }
          },
          "title": {
           "x": 0.05
          },
          "xaxis": {
           "automargin": true,
           "gridcolor": "white",
           "linecolor": "white",
           "ticks": "",
           "title": {
            "standoff": 15
           },
           "zerolinecolor": "white",
           "zerolinewidth": 2
          },
          "yaxis": {
           "automargin": true,
           "gridcolor": "white",
           "linecolor": "white",
           "ticks": "",
           "title": {
            "standoff": 15
           },
           "zerolinecolor": "white",
           "zerolinewidth": 2
          }
         }
        },
        "title": {
         "text": "Winning Bid with Number of Bids"
        },
        "xaxis": {
         "anchor": "y",
         "domain": [
          0,
          1
         ],
         "title": {
          "text": "Num Bids"
         }
        },
        "yaxis": {
         "anchor": "x",
         "domain": [
          0,
          1
         ],
         "title": {
          "text": "Lowest Bid"
         }
        }
       }
      }
     },
     "metadata": {},
     "output_type": "display_data"
    }
   ],
   "source": [
    "#Is there a relationship between number of bidders and dollar bids?\n",
    "fig = px.scatter(\n",
    "    bids,\n",
    "    x=\"Num Bids\", \n",
    "    y=\"Lowest Bid\",  \n",
    "    hover_data=[\"Auction\"],  \n",
    "    labels={\"x\": \"Number of bids\", \"y\": \"Winning bid\"}, \n",
    "    title=\"Winning Bid with Number of Bids\"\n",
    ")\n",
    "fig.show()"
   ]
  },
  {
   "cell_type": "code",
   "execution_count": 10,
   "metadata": {},
   "outputs": [
    {
     "data": {
      "application/vnd.plotly.v1+json": {
       "config": {
        "plotlyServerURL": "https://plot.ly"
       },
       "data": [
        {
         "customdata": [
          [
           "26055"
          ],
          [
           "20912"
          ],
          [
           "24881"
          ],
          [
           "24921"
          ],
          [
           "24063"
          ],
          [
           "24610"
          ],
          [
           "22903"
          ],
          [
           "24935"
          ],
          [
           "24395"
          ],
          [
           "23601"
          ],
          [
           "23537"
          ],
          [
           "24993"
          ],
          [
           "26355"
          ],
          [
           "24224"
          ],
          [
           "24199"
          ],
          [
           "25137"
          ],
          [
           "25850"
          ],
          [
           "22193"
          ],
          [
           "26036"
          ],
          [
           "26244"
          ],
          [
           "25120"
          ],
          [
           "21855"
          ],
          [
           "24229"
          ],
          [
           "21400"
          ],
          [
           "25295"
          ],
          [
           "23612"
          ],
          [
           "22020"
          ],
          [
           "25942"
          ],
          [
           "26270"
          ],
          [
           "24971"
          ],
          [
           "25071"
          ],
          [
           "22992"
          ],
          [
           "26419"
          ],
          [
           "25538"
          ],
          [
           "25279"
          ],
          [
           "26438"
          ],
          [
           "24208"
          ],
          [
           "24414"
          ],
          [
           "24394"
          ],
          [
           "24646"
          ],
          [
           "25668"
          ],
          [
           "24795"
          ],
          [
           "25293"
          ],
          [
           "22036"
          ],
          [
           "24412"
          ],
          [
           "24167"
          ],
          [
           "24639"
          ],
          [
           "23688"
          ],
          [
           "25276"
          ],
          [
           "24872"
          ],
          [
           "20986"
          ],
          [
           "22338"
          ],
          [
           "23817"
          ],
          [
           "24673"
          ],
          [
           "25817"
          ],
          [
           "24994"
          ],
          [
           "26262"
          ],
          [
           "23327"
          ],
          [
           "25478"
          ],
          [
           "23115"
          ],
          [
           "24416"
          ],
          [
           "23535"
          ],
          [
           "25016"
          ],
          [
           "21591"
          ],
          [
           "25354"
          ],
          [
           "22702"
          ],
          [
           "24509"
          ],
          [
           "24200"
          ],
          [
           "24171"
          ],
          [
           "21222"
          ],
          [
           "20896"
          ],
          [
           "24884"
          ],
          [
           "23698"
          ],
          [
           "25140"
          ],
          [
           "24667"
          ],
          [
           "24015"
          ],
          [
           "23623"
          ],
          [
           "26328"
          ],
          [
           "24666"
          ],
          [
           "25524"
          ],
          [
           "24092"
          ],
          [
           "23544"
          ],
          [
           "22547"
          ],
          [
           "23475"
          ],
          [
           "24032"
          ],
          [
           "23871"
          ],
          [
           "20169"
          ],
          [
           "21472"
          ],
          [
           "25035"
          ],
          [
           "26352"
          ],
          [
           "24951"
          ],
          [
           "23971"
          ],
          [
           "24672"
          ],
          [
           "23110"
          ],
          [
           "25561"
          ],
          [
           "24894"
          ],
          [
           "22381"
          ],
          [
           "25037"
          ],
          [
           "26054"
          ],
          [
           "24247"
          ],
          [
           "24769"
          ],
          [
           "20706"
          ],
          [
           "24198"
          ],
          [
           "24193"
          ],
          [
           "25974"
          ],
          [
           "24142"
          ],
          [
           "25277"
          ],
          [
           "21801"
          ],
          [
           "24955"
          ],
          [
           "24477"
          ],
          [
           "23064"
          ],
          [
           "22629"
          ],
          [
           "23592"
          ],
          [
           "24885"
          ],
          [
           "24772"
          ],
          [
           "24678"
          ],
          [
           "23505"
          ],
          [
           "24405"
          ],
          [
           "23468"
          ],
          [
           "24670"
          ],
          [
           "26275"
          ],
          [
           "25317"
          ],
          [
           "24037"
          ],
          [
           "23061"
          ],
          [
           "24544"
          ],
          [
           "25447"
          ],
          [
           "23758"
          ],
          [
           "25859"
          ],
          [
           "20960"
          ],
          [
           "23873"
          ],
          [
           "24954"
          ],
          [
           "24878"
          ],
          [
           "24599"
          ],
          [
           "26343"
          ],
          [
           "23443"
          ],
          [
           "22465"
          ],
          [
           "26578"
          ],
          [
           "23019"
          ],
          [
           "23499"
          ],
          [
           "25205"
          ],
          [
           "23292"
          ],
          [
           "21556"
          ],
          [
           "26311"
          ],
          [
           "23697"
          ],
          [
           "25166"
          ],
          [
           "25444"
          ],
          [
           "22529"
          ],
          [
           "25124"
          ],
          [
           "24658"
          ],
          [
           "24887"
          ],
          [
           "23191"
          ],
          [
           "25708"
          ],
          [
           "22247"
          ],
          [
           "21191"
          ],
          [
           "25855"
          ],
          [
           "26617"
          ],
          [
           "24966"
          ],
          [
           "24770"
          ],
          [
           "24166"
          ],
          [
           "24905"
          ],
          [
           "23583"
          ],
          [
           "24039"
          ],
          [
           "21825"
          ],
          [
           "21657"
          ],
          [
           "24425"
          ],
          [
           "24036"
          ],
          [
           "25542"
          ],
          [
           "23862"
          ],
          [
           "24956"
          ],
          [
           "25873"
          ],
          [
           "25036"
          ],
          [
           "23465"
          ],
          [
           "24682"
          ],
          [
           "25236"
          ],
          [
           "24620"
          ],
          [
           "23513"
          ],
          [
           "24237"
          ],
          [
           "23423"
          ],
          [
           "24889"
          ],
          [
           "19164"
          ],
          [
           "24417"
          ],
          [
           "22601"
          ],
          [
           "24674"
          ],
          [
           "25672"
          ],
          [
           "23509"
          ],
          [
           "24184"
          ],
          [
           "24463"
          ],
          [
           "26050"
          ],
          [
           "23838"
          ],
          [
           "24415"
          ],
          [
           "25499"
          ],
          [
           "25737"
          ],
          [
           "23192"
          ],
          [
           "25263"
          ],
          [
           "23444"
          ],
          [
           "23557"
          ],
          [
           "19771"
          ],
          [
           "24238"
          ],
          [
           "23861"
          ],
          [
           "24902"
          ],
          [
           "25663"
          ],
          [
           "20907"
          ],
          [
           "24464"
          ],
          [
           "24375"
          ],
          [
           "23160"
          ],
          [
           "24957"
          ],
          [
           "24771"
          ],
          [
           "25918"
          ],
          [
           "25921"
          ],
          [
           "24680"
          ],
          [
           "23689"
          ],
          [
           "21415"
          ],
          [
           "24321"
          ],
          [
           "25874"
          ],
          [
           "23621"
          ],
          [
           "21791"
          ],
          [
           "23176"
          ],
          [
           "24535"
          ],
          [
           "25463"
          ],
          [
           "25151"
          ],
          [
           "21837"
          ],
          [
           "24148"
          ],
          [
           "25832"
          ],
          [
           "25789"
          ],
          [
           "23542"
          ],
          [
           "24598"
          ],
          [
           "25541"
          ],
          [
           "25602"
          ],
          [
           "25081"
          ],
          [
           "24017"
          ],
          [
           "22242"
          ],
          [
           "26259"
          ],
          [
           "24057"
          ],
          [
           "23560"
          ],
          [
           "24311"
          ],
          [
           "23546"
          ],
          [
           "24668"
          ],
          [
           "24232"
          ],
          [
           "22953"
          ],
          [
           "25086"
          ],
          [
           "22350"
          ],
          [
           "24684"
          ],
          [
           "25280"
          ],
          [
           "24418"
          ],
          [
           "25613"
          ],
          [
           "25441"
          ],
          [
           "22827"
          ],
          [
           "25089"
          ],
          [
           "24518"
          ],
          [
           "24279"
          ],
          [
           "25093"
          ],
          [
           "23567"
          ],
          [
           "23541"
          ],
          [
           "26357"
          ],
          [
           "24622"
          ],
          [
           "25641"
          ],
          [
           "23497"
          ],
          [
           "20867"
          ],
          [
           "24263"
          ],
          [
           "25670"
          ],
          [
           "22437"
          ],
          [
           "23585"
          ],
          [
           "23485"
          ],
          [
           "23112"
          ],
          [
           "23186"
          ],
          [
           "21211"
          ],
          [
           "23075"
          ],
          [
           "22188"
          ],
          [
           "22570"
          ],
          [
           "23435"
          ],
          [
           "24245"
          ],
          [
           "23903"
          ],
          [
           "23036"
          ],
          [
           "23419"
          ],
          [
           "22399"
          ],
          [
           "21750"
          ],
          [
           "24323"
          ],
          [
           "22966"
          ],
          [
           "23239"
          ],
          [
           "21829"
          ],
          [
           "24427"
          ],
          [
           "24075"
          ],
          [
           "22479"
          ],
          [
           "22734"
          ],
          [
           "20787"
          ],
          [
           "24400"
          ],
          [
           "24319"
          ],
          [
           "23843"
          ],
          [
           "21776"
          ],
          [
           "23495"
          ],
          [
           "21324"
          ],
          [
           "24491"
          ],
          [
           "21866ra"
          ],
          [
           "22435"
          ],
          [
           "20900"
          ],
          [
           "24381"
          ],
          [
           "24507"
          ],
          [
           "21982"
          ],
          [
           "23126"
          ],
          [
           "23425"
          ],
          [
           "22839"
          ],
          [
           "22476"
          ],
          [
           "24254"
          ],
          [
           "21851"
          ],
          [
           "21015"
          ],
          [
           "21832"
          ],
          [
           "22859"
          ],
          [
           "20895"
          ],
          [
           "23421r"
          ],
          [
           "23189"
          ],
          [
           "22372"
          ],
          [
           "24653"
          ],
          [
           "19263"
          ],
          [
           "23668"
          ],
          [
           "22533"
          ],
          [
           "23676r"
          ],
          [
           "23653"
          ],
          [
           "22495"
          ],
          [
           "22975"
          ],
          [
           "21861"
          ],
          [
           "23522"
          ],
          [
           "21854"
          ],
          [
           "24206"
          ],
          [
           "23699"
          ],
          [
           "23506"
          ],
          [
           "22810"
          ],
          [
           "20821"
          ],
          [
           "24095"
          ],
          [
           "24304"
          ],
          [
           "23125"
          ],
          [
           "22949"
          ],
          [
           "23134"
          ],
          [
           "23673"
          ],
          [
           "22085"
          ],
          [
           "23280"
          ],
          [
           "23037"
          ],
          [
           "22555"
          ],
          [
           "23062"
          ],
          [
           "23426"
          ],
          [
           "20694"
          ],
          [
           "24074"
          ],
          [
           "20628"
          ],
          [
           "22368r"
          ],
          [
           "20952"
          ],
          [
           "23399"
          ],
          [
           "22996"
          ],
          [
           "24251"
          ],
          [
           "23103"
          ],
          [
           "23060"
          ],
          [
           "22166"
          ],
          [
           "24244"
          ],
          [
           "24428"
          ],
          [
           "24297"
          ],
          [
           "24141"
          ],
          [
           "23124"
          ],
          [
           "22865"
          ],
          [
           "24500"
          ],
          [
           "22796"
          ],
          [
           "20121"
          ],
          [
           "24338"
          ],
          [
           "24367"
          ],
          [
           "22943"
          ],
          [
           "23490"
          ],
          [
           "23321r"
          ],
          [
           "20898"
          ],
          [
           "22995"
          ],
          [
           "23500"
          ],
          [
           "22712"
          ],
          [
           "21986"
          ],
          [
           "24093"
          ],
          [
           "23355"
          ],
          [
           "23605"
          ],
          [
           "22845"
          ],
          [
           "23675"
          ],
          [
           "24472"
          ],
          [
           "23067"
          ],
          [
           "24053r"
          ],
          [
           "23169"
          ],
          [
           "23841"
          ],
          [
           "23922r"
          ],
          [
           "22210"
          ],
          [
           "22443"
          ],
          [
           "21572"
          ],
          [
           "21795"
          ],
          [
           "21907"
          ],
          [
           "23178"
          ],
          [
           "23005"
          ],
          [
           "24062"
          ],
          [
           "17881c"
          ],
          [
           "23865"
          ]
         ],
         "hovertemplate": "Num Bids=%{x}<br>Per/Est=%{y}<br>Auction=%{customdata[0]}<extra></extra>",
         "legendgroup": "",
         "marker": {
          "color": "#636efa",
          "symbol": "circle"
         },
         "mode": "markers",
         "name": "",
         "orientation": "v",
         "showlegend": false,
         "type": "scatter",
         "x": [
          2,
          7,
          2,
          3,
          5,
          8,
          2,
          2,
          3,
          3,
          4,
          4,
          1,
          6,
          6,
          3,
          3,
          2,
          2,
          1,
          2,
          5,
          2,
          2,
          1,
          3,
          3,
          3,
          5,
          2,
          3,
          1,
          1,
          6,
          2,
          5,
          3,
          1,
          1,
          5,
          2,
          3,
          5,
          5,
          1,
          1,
          5,
          2,
          1,
          1,
          4,
          4,
          3,
          2,
          1,
          3,
          3,
          4,
          1,
          1,
          2,
          4,
          3,
          2,
          4,
          1,
          4,
          5,
          3,
          3,
          4,
          3,
          5,
          5,
          3,
          3,
          2,
          3,
          7,
          3,
          2,
          8,
          8,
          2,
          6,
          3,
          4,
          4,
          3,
          3,
          2,
          3,
          2,
          2,
          2,
          1,
          5,
          4,
          5,
          3,
          4,
          3,
          2,
          3,
          6,
          2,
          4,
          4,
          2,
          2,
          1,
          4,
          2,
          4,
          1,
          2,
          1,
          1,
          4,
          3,
          1,
          4,
          3,
          3,
          2,
          1,
          4,
          4,
          3,
          4,
          2,
          4,
          2,
          3,
          3,
          1,
          5,
          1,
          2,
          1,
          2,
          3,
          3,
          3,
          1,
          2,
          7,
          3,
          3,
          6,
          2,
          3,
          3,
          3,
          2,
          2,
          2,
          2,
          2,
          2,
          1,
          4,
          3,
          5,
          4,
          3,
          3,
          4,
          3,
          1,
          1,
          4,
          3,
          2,
          7,
          2,
          2,
          2,
          2,
          6,
          5,
          4,
          2,
          1,
          5,
          1,
          2,
          2,
          1,
          3,
          3,
          1,
          2,
          2,
          3,
          5,
          4,
          3,
          2,
          3,
          2,
          4,
          5,
          1,
          1,
          1,
          3,
          6,
          5,
          2,
          4,
          2,
          7,
          2,
          3,
          3,
          1,
          4,
          2,
          3,
          2,
          5,
          3,
          1,
          3,
          3,
          2,
          5,
          4,
          3,
          1,
          4,
          6,
          2,
          3,
          2,
          2,
          1,
          5,
          2,
          4,
          2,
          2,
          2,
          5,
          2,
          4,
          4,
          1,
          4,
          3,
          4,
          2,
          3,
          4,
          5,
          2,
          1,
          3,
          3,
          5,
          4,
          7,
          2,
          7,
          5,
          2,
          2,
          3,
          4,
          3,
          3,
          2,
          3,
          6,
          3,
          4,
          2,
          3,
          1,
          4,
          1,
          1,
          4,
          6,
          1,
          3,
          1,
          2,
          7,
          5,
          2,
          2,
          3,
          6,
          2,
          3,
          3,
          3,
          3,
          3,
          2,
          1,
          5,
          1,
          3,
          4,
          3,
          5,
          3,
          2,
          4,
          6,
          4,
          4,
          3,
          5,
          3,
          1,
          3,
          7,
          2,
          1,
          1,
          5,
          1,
          5,
          4,
          1,
          3,
          4,
          2,
          6,
          2,
          5,
          4,
          2,
          2,
          1,
          6,
          4,
          4,
          4,
          4,
          3,
          3,
          1,
          2,
          2,
          2,
          6,
          2,
          1,
          4,
          2,
          10,
          3,
          4,
          2,
          3,
          1,
          1,
          3,
          5,
          2,
          10,
          3,
          1,
          5,
          3,
          3,
          1,
          3,
          2,
          3,
          4,
          2,
          6,
          1,
          4,
          3,
          3,
          3,
          1,
          6,
          3,
          8,
          3,
          3,
          4
         ],
         "xaxis": "x",
         "y": [
          -8.26,
          -2.91,
          15.3,
          3.4,
          -21.77,
          17.86,
          20.02,
          9.12,
          26.66,
          -27.35,
          24.88,
          -8.18,
          -0.44,
          15.52,
          -4,
          -27.43,
          -0.26,
          20.85,
          25.4,
          -14.03,
          12.11,
          -15.42,
          -33.01,
          -1.12,
          -5.94,
          23.76,
          -0.7,
          -12.37,
          -2.71,
          -4.67,
          -9.31,
          7.88,
          -13.35,
          -33.67,
          -35.6,
          -21.59,
          -14.88,
          7.47,
          -1.61,
          -39.06,
          22.08,
          17.53,
          -3.34,
          3.42,
          -31.89,
          33.83,
          -0.38,
          -0.87,
          -0.35,
          30.43,
          -21.23,
          8.21,
          -15.13,
          10.99,
          -2.99,
          -10.56,
          -25.28,
          -24.28,
          23.1,
          -17.04,
          37.99,
          4.2,
          -6.52,
          11.82,
          33.13,
          -4.59,
          -16.04,
          -25.54,
          16.89,
          33.51,
          -5.74,
          15.6,
          15.82,
          -17.88,
          19.84,
          22.45,
          32.84,
          -22.39,
          -1,
          -14.71,
          6.27,
          -19.19,
          1.32,
          -5.44,
          1.94,
          -1.51,
          -18.37,
          34.21,
          -2.6,
          -13.62,
          -22.08,
          -17.89,
          4.01,
          25.31,
          -4.63,
          0,
          19.3,
          1.27,
          -21.31,
          -8.17,
          1.46,
          -13.4,
          -1.8,
          23.52,
          -1.03,
          -20,
          -29.23,
          6.92,
          7.41,
          32.09,
          16.02,
          5.76,
          -12.08,
          -13.3,
          25.39,
          -11.06,
          -1.09,
          3.02,
          9.36,
          9.66,
          -1.75,
          29.18,
          5.44,
          -11.09,
          -24.14,
          2.25,
          -7.68,
          -4.18,
          5.92,
          -11.32,
          -21.01,
          -31.25,
          -5.65,
          -10.98,
          -17.04,
          16.33,
          -29.44,
          11.89,
          -1.79,
          -3.41,
          24.11,
          -9.42,
          6.03,
          -0.03,
          7.82,
          -12.77,
          -6.46,
          -10.23,
          -2.19,
          -25.77,
          4.61,
          -3.88,
          10.38,
          0.82,
          -16.54,
          4.58,
          2.17,
          -12.25,
          -3.28,
          0.02,
          3.24,
          2.98,
          -8.4,
          -1.55,
          -29.3,
          -9.77,
          -12.26,
          13.97,
          -4.02,
          -16.74,
          2.86,
          -20.35,
          -26.09,
          -27.59,
          7.01,
          9.88,
          -13.95,
          -22.64,
          -16.26,
          -2.04,
          12.24,
          -36.06,
          8.88,
          57.67,
          0.48,
          -1.19,
          10.33,
          -15.54,
          63.49,
          8.34,
          -27.73,
          18.27,
          11.09,
          -4.84,
          -16.14,
          -3.47,
          -13.46,
          -14.75,
          29.22,
          -14.1,
          10.6,
          26.41,
          13.26,
          35.49,
          11.68,
          -1.26,
          2.19,
          -13.4,
          27.53,
          -13.58,
          7.06,
          7.63,
          -22.03,
          -4.51,
          -17.3,
          31.2,
          12.67,
          -17.47,
          47.47,
          23.34,
          -0.98,
          -9.26,
          -4.14,
          180.13,
          -7.64,
          -35.31,
          -7.57,
          -35.31,
          -0.28,
          -3,
          -32.61,
          -11.5,
          7.64,
          -13.51,
          5.74,
          7.77,
          48.29,
          -12.04,
          30.08,
          -0.63,
          25.88,
          31.35,
          11.51,
          -19.31,
          -13.86,
          5.12,
          24.22,
          18.11,
          0,
          30.03,
          -15.9,
          1.5,
          5.93,
          -28.97,
          23.12,
          -2.87,
          -2.09,
          3.14,
          2.73,
          0,
          39.03,
          -2.07,
          -20.33,
          18.25,
          -23.12,
          9.3,
          3.33,
          -18.63,
          -20.11,
          -30.89,
          -4.6,
          4.62,
          10.24,
          11.22,
          -7.9,
          -14.87,
          -39.71,
          6.54,
          12.92,
          3.84,
          -20.65,
          0,
          0,
          8.86,
          -6.4,
          10.67,
          -7.6,
          0,
          -18.66,
          -20.16,
          12.15,
          23.27,
          -1.65,
          -1.39,
          -6.43,
          -6.14,
          -28.2,
          17.22,
          -20.34,
          -28.23,
          -4.49,
          21.41,
          8.94,
          -0.26,
          16.19,
          -31.03,
          -31.71,
          31.8,
          -9.81,
          -2.69,
          -5.77,
          -5.62,
          -1.63,
          -2.12,
          -3.39,
          43.81,
          -6.08,
          33.81,
          12.78,
          10.32,
          5.25,
          -0.58,
          0.46,
          4.35,
          -2.66,
          13.42,
          -5.24,
          -18.72,
          8.82,
          53.99,
          4.06,
          27.42,
          -19.8,
          4.9,
          -17.04,
          -11.98,
          -20.48,
          35.07,
          -59.61,
          4.53,
          3.88,
          -3.02,
          8.64,
          7.94,
          9.44,
          -0.34,
          4.59,
          -14.16,
          2.14,
          12.13,
          -14.71,
          -22.56,
          0,
          -26.38,
          10.56,
          1.06,
          -11.84,
          6.28,
          2.14,
          -5.06,
          0,
          14.31,
          6.59,
          -7.05,
          111.92,
          -23.67,
          -8.29,
          0,
          1,
          9.98,
          -12.85,
          0,
          -9.31,
          24.48,
          30.77,
          -23.97,
          -1.12,
          -4.92,
          0,
          -17.43,
          -2.24,
          17.07,
          -10.55,
          -1.67,
          3.28,
          2.67,
          -20.52,
          -0.99,
          -16.66,
          -4.42
         ],
         "yaxis": "y"
        }
       ],
       "layout": {
        "legend": {
         "tracegroupgap": 0
        },
        "template": {
         "data": {
          "bar": [
           {
            "error_x": {
             "color": "#2a3f5f"
            },
            "error_y": {
             "color": "#2a3f5f"
            },
            "marker": {
             "line": {
              "color": "#E5ECF6",
              "width": 0.5
             },
             "pattern": {
              "fillmode": "overlay",
              "size": 10,
              "solidity": 0.2
             }
            },
            "type": "bar"
           }
          ],
          "barpolar": [
           {
            "marker": {
             "line": {
              "color": "#E5ECF6",
              "width": 0.5
             },
             "pattern": {
              "fillmode": "overlay",
              "size": 10,
              "solidity": 0.2
             }
            },
            "type": "barpolar"
           }
          ],
          "carpet": [
           {
            "aaxis": {
             "endlinecolor": "#2a3f5f",
             "gridcolor": "white",
             "linecolor": "white",
             "minorgridcolor": "white",
             "startlinecolor": "#2a3f5f"
            },
            "baxis": {
             "endlinecolor": "#2a3f5f",
             "gridcolor": "white",
             "linecolor": "white",
             "minorgridcolor": "white",
             "startlinecolor": "#2a3f5f"
            },
            "type": "carpet"
           }
          ],
          "choropleth": [
           {
            "colorbar": {
             "outlinewidth": 0,
             "ticks": ""
            },
            "type": "choropleth"
           }
          ],
          "contour": [
           {
            "colorbar": {
             "outlinewidth": 0,
             "ticks": ""
            },
            "colorscale": [
             [
              0,
              "#0d0887"
             ],
             [
              0.1111111111111111,
              "#46039f"
             ],
             [
              0.2222222222222222,
              "#7201a8"
             ],
             [
              0.3333333333333333,
              "#9c179e"
             ],
             [
              0.4444444444444444,
              "#bd3786"
             ],
             [
              0.5555555555555556,
              "#d8576b"
             ],
             [
              0.6666666666666666,
              "#ed7953"
             ],
             [
              0.7777777777777778,
              "#fb9f3a"
             ],
             [
              0.8888888888888888,
              "#fdca26"
             ],
             [
              1,
              "#f0f921"
             ]
            ],
            "type": "contour"
           }
          ],
          "contourcarpet": [
           {
            "colorbar": {
             "outlinewidth": 0,
             "ticks": ""
            },
            "type": "contourcarpet"
           }
          ],
          "heatmap": [
           {
            "colorbar": {
             "outlinewidth": 0,
             "ticks": ""
            },
            "colorscale": [
             [
              0,
              "#0d0887"
             ],
             [
              0.1111111111111111,
              "#46039f"
             ],
             [
              0.2222222222222222,
              "#7201a8"
             ],
             [
              0.3333333333333333,
              "#9c179e"
             ],
             [
              0.4444444444444444,
              "#bd3786"
             ],
             [
              0.5555555555555556,
              "#d8576b"
             ],
             [
              0.6666666666666666,
              "#ed7953"
             ],
             [
              0.7777777777777778,
              "#fb9f3a"
             ],
             [
              0.8888888888888888,
              "#fdca26"
             ],
             [
              1,
              "#f0f921"
             ]
            ],
            "type": "heatmap"
           }
          ],
          "heatmapgl": [
           {
            "colorbar": {
             "outlinewidth": 0,
             "ticks": ""
            },
            "colorscale": [
             [
              0,
              "#0d0887"
             ],
             [
              0.1111111111111111,
              "#46039f"
             ],
             [
              0.2222222222222222,
              "#7201a8"
             ],
             [
              0.3333333333333333,
              "#9c179e"
             ],
             [
              0.4444444444444444,
              "#bd3786"
             ],
             [
              0.5555555555555556,
              "#d8576b"
             ],
             [
              0.6666666666666666,
              "#ed7953"
             ],
             [
              0.7777777777777778,
              "#fb9f3a"
             ],
             [
              0.8888888888888888,
              "#fdca26"
             ],
             [
              1,
              "#f0f921"
             ]
            ],
            "type": "heatmapgl"
           }
          ],
          "histogram": [
           {
            "marker": {
             "pattern": {
              "fillmode": "overlay",
              "size": 10,
              "solidity": 0.2
             }
            },
            "type": "histogram"
           }
          ],
          "histogram2d": [
           {
            "colorbar": {
             "outlinewidth": 0,
             "ticks": ""
            },
            "colorscale": [
             [
              0,
              "#0d0887"
             ],
             [
              0.1111111111111111,
              "#46039f"
             ],
             [
              0.2222222222222222,
              "#7201a8"
             ],
             [
              0.3333333333333333,
              "#9c179e"
             ],
             [
              0.4444444444444444,
              "#bd3786"
             ],
             [
              0.5555555555555556,
              "#d8576b"
             ],
             [
              0.6666666666666666,
              "#ed7953"
             ],
             [
              0.7777777777777778,
              "#fb9f3a"
             ],
             [
              0.8888888888888888,
              "#fdca26"
             ],
             [
              1,
              "#f0f921"
             ]
            ],
            "type": "histogram2d"
           }
          ],
          "histogram2dcontour": [
           {
            "colorbar": {
             "outlinewidth": 0,
             "ticks": ""
            },
            "colorscale": [
             [
              0,
              "#0d0887"
             ],
             [
              0.1111111111111111,
              "#46039f"
             ],
             [
              0.2222222222222222,
              "#7201a8"
             ],
             [
              0.3333333333333333,
              "#9c179e"
             ],
             [
              0.4444444444444444,
              "#bd3786"
             ],
             [
              0.5555555555555556,
              "#d8576b"
             ],
             [
              0.6666666666666666,
              "#ed7953"
             ],
             [
              0.7777777777777778,
              "#fb9f3a"
             ],
             [
              0.8888888888888888,
              "#fdca26"
             ],
             [
              1,
              "#f0f921"
             ]
            ],
            "type": "histogram2dcontour"
           }
          ],
          "mesh3d": [
           {
            "colorbar": {
             "outlinewidth": 0,
             "ticks": ""
            },
            "type": "mesh3d"
           }
          ],
          "parcoords": [
           {
            "line": {
             "colorbar": {
              "outlinewidth": 0,
              "ticks": ""
             }
            },
            "type": "parcoords"
           }
          ],
          "pie": [
           {
            "automargin": true,
            "type": "pie"
           }
          ],
          "scatter": [
           {
            "fillpattern": {
             "fillmode": "overlay",
             "size": 10,
             "solidity": 0.2
            },
            "type": "scatter"
           }
          ],
          "scatter3d": [
           {
            "line": {
             "colorbar": {
              "outlinewidth": 0,
              "ticks": ""
             }
            },
            "marker": {
             "colorbar": {
              "outlinewidth": 0,
              "ticks": ""
             }
            },
            "type": "scatter3d"
           }
          ],
          "scattercarpet": [
           {
            "marker": {
             "colorbar": {
              "outlinewidth": 0,
              "ticks": ""
             }
            },
            "type": "scattercarpet"
           }
          ],
          "scattergeo": [
           {
            "marker": {
             "colorbar": {
              "outlinewidth": 0,
              "ticks": ""
             }
            },
            "type": "scattergeo"
           }
          ],
          "scattergl": [
           {
            "marker": {
             "colorbar": {
              "outlinewidth": 0,
              "ticks": ""
             }
            },
            "type": "scattergl"
           }
          ],
          "scattermapbox": [
           {
            "marker": {
             "colorbar": {
              "outlinewidth": 0,
              "ticks": ""
             }
            },
            "type": "scattermapbox"
           }
          ],
          "scatterpolar": [
           {
            "marker": {
             "colorbar": {
              "outlinewidth": 0,
              "ticks": ""
             }
            },
            "type": "scatterpolar"
           }
          ],
          "scatterpolargl": [
           {
            "marker": {
             "colorbar": {
              "outlinewidth": 0,
              "ticks": ""
             }
            },
            "type": "scatterpolargl"
           }
          ],
          "scatterternary": [
           {
            "marker": {
             "colorbar": {
              "outlinewidth": 0,
              "ticks": ""
             }
            },
            "type": "scatterternary"
           }
          ],
          "surface": [
           {
            "colorbar": {
             "outlinewidth": 0,
             "ticks": ""
            },
            "colorscale": [
             [
              0,
              "#0d0887"
             ],
             [
              0.1111111111111111,
              "#46039f"
             ],
             [
              0.2222222222222222,
              "#7201a8"
             ],
             [
              0.3333333333333333,
              "#9c179e"
             ],
             [
              0.4444444444444444,
              "#bd3786"
             ],
             [
              0.5555555555555556,
              "#d8576b"
             ],
             [
              0.6666666666666666,
              "#ed7953"
             ],
             [
              0.7777777777777778,
              "#fb9f3a"
             ],
             [
              0.8888888888888888,
              "#fdca26"
             ],
             [
              1,
              "#f0f921"
             ]
            ],
            "type": "surface"
           }
          ],
          "table": [
           {
            "cells": {
             "fill": {
              "color": "#EBF0F8"
             },
             "line": {
              "color": "white"
             }
            },
            "header": {
             "fill": {
              "color": "#C8D4E3"
             },
             "line": {
              "color": "white"
             }
            },
            "type": "table"
           }
          ]
         },
         "layout": {
          "annotationdefaults": {
           "arrowcolor": "#2a3f5f",
           "arrowhead": 0,
           "arrowwidth": 1
          },
          "autotypenumbers": "strict",
          "coloraxis": {
           "colorbar": {
            "outlinewidth": 0,
            "ticks": ""
           }
          },
          "colorscale": {
           "diverging": [
            [
             0,
             "#8e0152"
            ],
            [
             0.1,
             "#c51b7d"
            ],
            [
             0.2,
             "#de77ae"
            ],
            [
             0.3,
             "#f1b6da"
            ],
            [
             0.4,
             "#fde0ef"
            ],
            [
             0.5,
             "#f7f7f7"
            ],
            [
             0.6,
             "#e6f5d0"
            ],
            [
             0.7,
             "#b8e186"
            ],
            [
             0.8,
             "#7fbc41"
            ],
            [
             0.9,
             "#4d9221"
            ],
            [
             1,
             "#276419"
            ]
           ],
           "sequential": [
            [
             0,
             "#0d0887"
            ],
            [
             0.1111111111111111,
             "#46039f"
            ],
            [
             0.2222222222222222,
             "#7201a8"
            ],
            [
             0.3333333333333333,
             "#9c179e"
            ],
            [
             0.4444444444444444,
             "#bd3786"
            ],
            [
             0.5555555555555556,
             "#d8576b"
            ],
            [
             0.6666666666666666,
             "#ed7953"
            ],
            [
             0.7777777777777778,
             "#fb9f3a"
            ],
            [
             0.8888888888888888,
             "#fdca26"
            ],
            [
             1,
             "#f0f921"
            ]
           ],
           "sequentialminus": [
            [
             0,
             "#0d0887"
            ],
            [
             0.1111111111111111,
             "#46039f"
            ],
            [
             0.2222222222222222,
             "#7201a8"
            ],
            [
             0.3333333333333333,
             "#9c179e"
            ],
            [
             0.4444444444444444,
             "#bd3786"
            ],
            [
             0.5555555555555556,
             "#d8576b"
            ],
            [
             0.6666666666666666,
             "#ed7953"
            ],
            [
             0.7777777777777778,
             "#fb9f3a"
            ],
            [
             0.8888888888888888,
             "#fdca26"
            ],
            [
             1,
             "#f0f921"
            ]
           ]
          },
          "colorway": [
           "#636efa",
           "#EF553B",
           "#00cc96",
           "#ab63fa",
           "#FFA15A",
           "#19d3f3",
           "#FF6692",
           "#B6E880",
           "#FF97FF",
           "#FECB52"
          ],
          "font": {
           "color": "#2a3f5f"
          },
          "geo": {
           "bgcolor": "white",
           "lakecolor": "white",
           "landcolor": "#E5ECF6",
           "showlakes": true,
           "showland": true,
           "subunitcolor": "white"
          },
          "hoverlabel": {
           "align": "left"
          },
          "hovermode": "closest",
          "mapbox": {
           "style": "light"
          },
          "paper_bgcolor": "white",
          "plot_bgcolor": "#E5ECF6",
          "polar": {
           "angularaxis": {
            "gridcolor": "white",
            "linecolor": "white",
            "ticks": ""
           },
           "bgcolor": "#E5ECF6",
           "radialaxis": {
            "gridcolor": "white",
            "linecolor": "white",
            "ticks": ""
           }
          },
          "scene": {
           "xaxis": {
            "backgroundcolor": "#E5ECF6",
            "gridcolor": "white",
            "gridwidth": 2,
            "linecolor": "white",
            "showbackground": true,
            "ticks": "",
            "zerolinecolor": "white"
           },
           "yaxis": {
            "backgroundcolor": "#E5ECF6",
            "gridcolor": "white",
            "gridwidth": 2,
            "linecolor": "white",
            "showbackground": true,
            "ticks": "",
            "zerolinecolor": "white"
           },
           "zaxis": {
            "backgroundcolor": "#E5ECF6",
            "gridcolor": "white",
            "gridwidth": 2,
            "linecolor": "white",
            "showbackground": true,
            "ticks": "",
            "zerolinecolor": "white"
           }
          },
          "shapedefaults": {
           "line": {
            "color": "#2a3f5f"
           }
          },
          "ternary": {
           "aaxis": {
            "gridcolor": "white",
            "linecolor": "white",
            "ticks": ""
           },
           "baxis": {
            "gridcolor": "white",
            "linecolor": "white",
            "ticks": ""
           },
           "bgcolor": "#E5ECF6",
           "caxis": {
            "gridcolor": "white",
            "linecolor": "white",
            "ticks": ""
           }
          },
          "title": {
           "x": 0.05
          },
          "xaxis": {
           "automargin": true,
           "gridcolor": "white",
           "linecolor": "white",
           "ticks": "",
           "title": {
            "standoff": 15
           },
           "zerolinecolor": "white",
           "zerolinewidth": 2
          },
          "yaxis": {
           "automargin": true,
           "gridcolor": "white",
           "linecolor": "white",
           "ticks": "",
           "title": {
            "standoff": 15
           },
           "zerolinecolor": "white",
           "zerolinewidth": 2
          }
         }
        },
        "title": {
         "text": "Deviation from engineering estimate (%)"
        },
        "xaxis": {
         "anchor": "y",
         "domain": [
          0,
          1
         ],
         "title": {
          "text": "Num Bids"
         }
        },
        "yaxis": {
         "anchor": "x",
         "domain": [
          0,
          1
         ],
         "title": {
          "text": "Per/Est"
         }
        }
       }
      }
     },
     "metadata": {},
     "output_type": "display_data"
    }
   ],
   "source": [
    "fig = px.scatter(\n",
    "    bids,\n",
    "    x=\"Num Bids\", \n",
    "    y=\"Per/Est\",  \n",
    "    hover_data=[\"Auction\"],  \n",
    "    labels={\"x\": \"Number of bids\", \"y\": \"Winning bid\"}, \n",
    "    title=\"Deviation from engineering estimate (%)\"\n",
    ")\n",
    "fig.show()"
   ]
  },
  {
   "cell_type": "code",
   "execution_count": 11,
   "metadata": {},
   "outputs": [
    {
     "data": {
      "application/vnd.plotly.v1+json": {
       "config": {
        "plotlyServerURL": "https://plot.ly"
       },
       "data": [
        {
         "customdata": [
          [
           "26055"
          ],
          [
           "20912"
          ],
          [
           "24881"
          ],
          [
           "24921"
          ],
          [
           "24063"
          ],
          [
           "24610"
          ],
          [
           "22903"
          ],
          [
           "24935"
          ],
          [
           "24395"
          ],
          [
           "23601"
          ],
          [
           "23537"
          ],
          [
           "24993"
          ],
          [
           "24224"
          ],
          [
           "24199"
          ],
          [
           "25137"
          ],
          [
           "25850"
          ],
          [
           "22193"
          ],
          [
           "26036"
          ],
          [
           "25120"
          ],
          [
           "21855"
          ],
          [
           "24229"
          ],
          [
           "21400"
          ],
          [
           "23612"
          ],
          [
           "22020"
          ],
          [
           "25942"
          ],
          [
           "26270"
          ],
          [
           "24971"
          ],
          [
           "25071"
          ],
          [
           "25538"
          ],
          [
           "25279"
          ],
          [
           "26438"
          ],
          [
           "24208"
          ],
          [
           "24646"
          ],
          [
           "25668"
          ],
          [
           "24795"
          ],
          [
           "25293"
          ],
          [
           "22036"
          ],
          [
           "24639"
          ],
          [
           "23688"
          ],
          [
           "20986"
          ],
          [
           "22338"
          ],
          [
           "23817"
          ],
          [
           "24673"
          ],
          [
           "24994"
          ],
          [
           "26262"
          ],
          [
           "23327"
          ],
          [
           "24416"
          ],
          [
           "23535"
          ],
          [
           "25016"
          ],
          [
           "21591"
          ],
          [
           "25354"
          ],
          [
           "24509"
          ],
          [
           "24200"
          ],
          [
           "24171"
          ],
          [
           "21222"
          ],
          [
           "20896"
          ],
          [
           "24884"
          ],
          [
           "23698"
          ],
          [
           "25140"
          ],
          [
           "24667"
          ],
          [
           "24015"
          ],
          [
           "23623"
          ],
          [
           "26328"
          ],
          [
           "24666"
          ],
          [
           "25524"
          ],
          [
           "24092"
          ],
          [
           "23544"
          ],
          [
           "22547"
          ],
          [
           "23475"
          ],
          [
           "24032"
          ],
          [
           "23871"
          ],
          [
           "20169"
          ],
          [
           "21472"
          ],
          [
           "25035"
          ],
          [
           "26352"
          ],
          [
           "24951"
          ],
          [
           "23971"
          ],
          [
           "24672"
          ],
          [
           "23110"
          ],
          [
           "25561"
          ],
          [
           "22381"
          ],
          [
           "25037"
          ],
          [
           "26054"
          ],
          [
           "24247"
          ],
          [
           "24769"
          ],
          [
           "20706"
          ],
          [
           "24198"
          ],
          [
           "24193"
          ],
          [
           "25974"
          ],
          [
           "24142"
          ],
          [
           "25277"
          ],
          [
           "21801"
          ],
          [
           "24955"
          ],
          [
           "24477"
          ],
          [
           "22629"
          ],
          [
           "23592"
          ],
          [
           "24885"
          ],
          [
           "24678"
          ],
          [
           "23468"
          ],
          [
           "24670"
          ],
          [
           "25317"
          ],
          [
           "24037"
          ],
          [
           "23061"
          ],
          [
           "24544"
          ],
          [
           "23758"
          ],
          [
           "25859"
          ],
          [
           "20960"
          ],
          [
           "23873"
          ],
          [
           "24954"
          ],
          [
           "24878"
          ],
          [
           "24599"
          ],
          [
           "26343"
          ],
          [
           "23443"
          ],
          [
           "26578"
          ],
          [
           "23499"
          ],
          [
           "23292"
          ],
          [
           "21556"
          ],
          [
           "26311"
          ],
          [
           "23697"
          ],
          [
           "25444"
          ],
          [
           "22529"
          ],
          [
           "25124"
          ],
          [
           "24658"
          ],
          [
           "24887"
          ],
          [
           "23191"
          ],
          [
           "25708"
          ],
          [
           "22247"
          ],
          [
           "21191"
          ],
          [
           "25855"
          ],
          [
           "26617"
          ],
          [
           "24966"
          ],
          [
           "24770"
          ],
          [
           "24166"
          ],
          [
           "24905"
          ],
          [
           "24039"
          ],
          [
           "21825"
          ],
          [
           "21657"
          ],
          [
           "24425"
          ],
          [
           "24036"
          ],
          [
           "25542"
          ],
          [
           "23862"
          ],
          [
           "24956"
          ],
          [
           "23465"
          ],
          [
           "24682"
          ],
          [
           "25236"
          ],
          [
           "24620"
          ],
          [
           "23513"
          ],
          [
           "24237"
          ],
          [
           "23423"
          ],
          [
           "24889"
          ],
          [
           "19164"
          ],
          [
           "24417"
          ],
          [
           "22601"
          ],
          [
           "24674"
          ],
          [
           "23509"
          ],
          [
           "24463"
          ],
          [
           "26050"
          ],
          [
           "24415"
          ],
          [
           "25499"
          ],
          [
           "23192"
          ],
          [
           "25263"
          ],
          [
           "23444"
          ],
          [
           "23557"
          ],
          [
           "19771"
          ],
          [
           "24238"
          ],
          [
           "23861"
          ],
          [
           "24902"
          ],
          [
           "25663"
          ],
          [
           "20907"
          ],
          [
           "24464"
          ],
          [
           "24771"
          ],
          [
           "25918"
          ],
          [
           "25921"
          ],
          [
           "24680"
          ],
          [
           "23689"
          ],
          [
           "21415"
          ],
          [
           "24321"
          ],
          [
           "25874"
          ],
          [
           "23621"
          ],
          [
           "21791"
          ],
          [
           "24535"
          ],
          [
           "25463"
          ],
          [
           "25151"
          ],
          [
           "21837"
          ],
          [
           "24148"
          ],
          [
           "25832"
          ],
          [
           "23542"
          ],
          [
           "24598"
          ],
          [
           "25541"
          ],
          [
           "25602"
          ],
          [
           "25081"
          ],
          [
           "24017"
          ],
          [
           "26259"
          ],
          [
           "24057"
          ],
          [
           "23560"
          ],
          [
           "24311"
          ],
          [
           "23546"
          ],
          [
           "24668"
          ],
          [
           "22953"
          ],
          [
           "25086"
          ],
          [
           "22350"
          ],
          [
           "24684"
          ],
          [
           "25280"
          ],
          [
           "24418"
          ],
          [
           "25613"
          ],
          [
           "25441"
          ],
          [
           "22827"
          ],
          [
           "25089"
          ],
          [
           "24279"
          ],
          [
           "25093"
          ],
          [
           "23567"
          ],
          [
           "23541"
          ],
          [
           "26357"
          ],
          [
           "24622"
          ],
          [
           "25641"
          ],
          [
           "23497"
          ],
          [
           "24263"
          ],
          [
           "25670"
          ],
          [
           "22437"
          ],
          [
           "23585"
          ],
          [
           "23485"
          ],
          [
           "23112"
          ],
          [
           "23186"
          ],
          [
           "21211"
          ],
          [
           "23075"
          ],
          [
           "22188"
          ],
          [
           "22570"
          ],
          [
           "23435"
          ],
          [
           "24245"
          ],
          [
           "23903"
          ],
          [
           "23036"
          ],
          [
           "23419"
          ],
          [
           "22399"
          ],
          [
           "21750"
          ],
          [
           "24323"
          ],
          [
           "22966"
          ],
          [
           "23239"
          ],
          [
           "24427"
          ],
          [
           "22734"
          ],
          [
           "20787"
          ],
          [
           "24319"
          ],
          [
           "21776"
          ],
          [
           "23495"
          ],
          [
           "21324"
          ],
          [
           "24491"
          ],
          [
           "21866ra"
          ],
          [
           "22435"
          ],
          [
           "20900"
          ],
          [
           "24381"
          ],
          [
           "24507"
          ],
          [
           "21982"
          ],
          [
           "23126"
          ],
          [
           "23425"
          ],
          [
           "22839"
          ],
          [
           "22476"
          ],
          [
           "21851"
          ],
          [
           "21832"
          ],
          [
           "22859"
          ],
          [
           "20895"
          ],
          [
           "23421r"
          ],
          [
           "23189"
          ],
          [
           "22372"
          ],
          [
           "24653"
          ],
          [
           "19263"
          ],
          [
           "23668"
          ],
          [
           "22533"
          ],
          [
           "23676r"
          ],
          [
           "23653"
          ],
          [
           "22495"
          ],
          [
           "21861"
          ],
          [
           "23522"
          ],
          [
           "21854"
          ],
          [
           "23506"
          ],
          [
           "20821"
          ],
          [
           "24095"
          ],
          [
           "23125"
          ],
          [
           "22949"
          ],
          [
           "23134"
          ],
          [
           "23673"
          ],
          [
           "22085"
          ],
          [
           "23280"
          ],
          [
           "23037"
          ],
          [
           "22555"
          ],
          [
           "23062"
          ],
          [
           "20694"
          ],
          [
           "24074"
          ],
          [
           "20628"
          ],
          [
           "22368r"
          ],
          [
           "20952"
          ],
          [
           "23399"
          ],
          [
           "22996"
          ],
          [
           "23103"
          ],
          [
           "23060"
          ],
          [
           "22166"
          ],
          [
           "24244"
          ],
          [
           "24428"
          ],
          [
           "24141"
          ],
          [
           "23124"
          ],
          [
           "22865"
          ],
          [
           "24500"
          ],
          [
           "22796"
          ],
          [
           "20121"
          ],
          [
           "24338"
          ],
          [
           "23490"
          ],
          [
           "23321r"
          ],
          [
           "20898"
          ],
          [
           "22995"
          ],
          [
           "23500"
          ],
          [
           "21986"
          ],
          [
           "24093"
          ],
          [
           "23355"
          ],
          [
           "22845"
          ],
          [
           "23675"
          ],
          [
           "24472"
          ],
          [
           "23067"
          ],
          [
           "24053r"
          ],
          [
           "23169"
          ],
          [
           "23922r"
          ],
          [
           "22210"
          ],
          [
           "22443"
          ],
          [
           "21572"
          ],
          [
           "21907"
          ],
          [
           "23178"
          ],
          [
           "23005"
          ],
          [
           "24062"
          ],
          [
           "17881c"
          ],
          [
           "23865"
          ]
         ],
         "hovertemplate": "Num Bids=%{x}<br>Winning Margin=%{y}<br>Auction=%{customdata[0]}<extra></extra>",
         "legendgroup": "",
         "marker": {
          "color": "#636efa",
          "symbol": "circle"
         },
         "mode": "markers",
         "name": "",
         "orientation": "v",
         "showlegend": false,
         "type": "scatter",
         "x": [
          2,
          7,
          2,
          3,
          5,
          8,
          2,
          2,
          3,
          3,
          4,
          4,
          6,
          6,
          3,
          3,
          2,
          2,
          2,
          5,
          2,
          2,
          3,
          3,
          3,
          5,
          2,
          3,
          6,
          2,
          5,
          3,
          5,
          2,
          3,
          5,
          5,
          5,
          2,
          4,
          4,
          3,
          2,
          3,
          3,
          4,
          2,
          4,
          3,
          2,
          4,
          4,
          5,
          3,
          3,
          4,
          3,
          5,
          5,
          3,
          3,
          2,
          3,
          7,
          3,
          2,
          8,
          8,
          2,
          6,
          3,
          4,
          4,
          3,
          3,
          2,
          3,
          2,
          2,
          2,
          5,
          4,
          5,
          3,
          4,
          3,
          2,
          3,
          6,
          2,
          4,
          4,
          2,
          2,
          4,
          2,
          4,
          2,
          4,
          3,
          4,
          3,
          3,
          2,
          4,
          4,
          3,
          4,
          2,
          4,
          2,
          3,
          3,
          5,
          2,
          2,
          3,
          3,
          3,
          2,
          7,
          3,
          3,
          6,
          2,
          3,
          3,
          3,
          2,
          2,
          2,
          2,
          2,
          2,
          4,
          3,
          5,
          4,
          3,
          3,
          4,
          3,
          4,
          3,
          2,
          7,
          2,
          2,
          2,
          2,
          6,
          5,
          4,
          2,
          5,
          2,
          2,
          3,
          3,
          2,
          2,
          3,
          5,
          4,
          3,
          2,
          3,
          2,
          4,
          5,
          3,
          6,
          5,
          2,
          4,
          2,
          7,
          2,
          3,
          3,
          4,
          2,
          3,
          2,
          5,
          3,
          3,
          3,
          2,
          5,
          4,
          3,
          4,
          6,
          2,
          3,
          2,
          2,
          5,
          2,
          4,
          2,
          2,
          2,
          5,
          2,
          4,
          4,
          4,
          3,
          4,
          2,
          3,
          4,
          5,
          2,
          3,
          3,
          5,
          4,
          7,
          2,
          7,
          5,
          2,
          2,
          3,
          4,
          3,
          3,
          2,
          3,
          6,
          3,
          4,
          2,
          3,
          4,
          4,
          6,
          3,
          2,
          7,
          5,
          2,
          2,
          3,
          6,
          2,
          3,
          3,
          3,
          3,
          3,
          2,
          5,
          3,
          4,
          3,
          5,
          3,
          2,
          4,
          6,
          4,
          4,
          3,
          5,
          3,
          3,
          7,
          2,
          5,
          5,
          4,
          3,
          4,
          2,
          6,
          2,
          5,
          4,
          2,
          2,
          6,
          4,
          4,
          4,
          4,
          3,
          3,
          2,
          2,
          2,
          6,
          2,
          4,
          2,
          10,
          3,
          4,
          2,
          3,
          3,
          5,
          2,
          10,
          3,
          5,
          3,
          3,
          3,
          2,
          3,
          4,
          2,
          6,
          4,
          3,
          3,
          3,
          6,
          3,
          8,
          3,
          3,
          4
         ],
         "xaxis": "x",
         "y": [
          164719.5,
          123312.65000000014,
          786176.2000000002,
          93089,
          132275.2000000002,
          197482.0700000003,
          2291270.8400000036,
          365441.5,
          1261738.9500000011,
          146637.5,
          88847.90999999968,
          23128,
          11954.400000000373,
          502270.0999999996,
          218902,
          15913.5,
          459598.30999999866,
          24580,
          144138.5,
          337196.6799999997,
          2107037.08,
          1149675.9100000001,
          17322.189999999944,
          222630.08000000194,
          220831.41000000015,
          54733,
          1642914.1400000006,
          128096.66999999993,
          3084.5200000000186,
          8813,
          207267.04000000004,
          2084882.8100000005,
          134392.5,
          590312,
          91901.5,
          3068.8599999998696,
          131010.51999999955,
          159217.01,
          371991.13,
          830587.52,
          2496680.75,
          815520.3999999985,
          945377,
          53900,
          60663,
          729792.7000000002,
          5235.390000000014,
          14598722.600000009,
          117139.25,
          1438260.1399999997,
          164121.93000000017,
          449636.7999999998,
          12549.099999999627,
          444372.5,
          260799.36000000034,
          470725,
          1794074.3299999982,
          233326.56000000006,
          24049.399999999907,
          203243,
          1143954.8499999996,
          22019,
          60130,
          426407.77999999933,
          86214.44,
          258033.97000000067,
          8746.679999999935,
          1282774.289999999,
          146496.68000000156,
          31357.25,
          106888,
          419566.0099999998,
          462528.5099999998,
          61588.39999999991,
          221172.56000000006,
          67076,
          82229,
          14349,
          913758.1999999993,
          125025,
          38735.9299999997,
          649661.8200000003,
          134326.65999999992,
          1347696.0699999998,
          238239.1399999999,
          358282,
          345347.7999999998,
          1015973.7300000004,
          213921.3899999999,
          553564,
          255730.66999999993,
          690598.9199999999,
          92635,
          887681,
          401229,
          402284.0499999998,
          79499.1499999999,
          442801.2000000002,
          122678.1799999997,
          764661.5,
          418301.3999999999,
          71276,
          638176.1199999992,
          182666.49000000022,
          1143310.7000000002,
          1175479.5500000007,
          43552.54000000004,
          110151,
          733210.8999999994,
          312162,
          2925781.86,
          60062.81,
          881404,
          85472,
          1091812.5099999998,
          352570.8500000001,
          2518700,
          278868.96999999974,
          559993.7300000004,
          38109.12000000011,
          98834,
          169382.16000000015,
          1345086.5999999996,
          1438938.4900000002,
          808130.1299999999,
          57315.68000000017,
          77890.72999999998,
          70421.12999999989,
          880051.21,
          5304.5,
          25725,
          272146.1499999999,
          1660695.6100000003,
          9517531.629999995,
          36414.700000000186,
          455916.1499999999,
          86303.3999999999,
          898605.5499999998,
          1079122.1799999997,
          441401.66000000015,
          934546.0099999998,
          2818.439999999944,
          1277203.25,
          1593238.9500000011,
          688215.1500000004,
          656976.8900000006,
          2221394,
          350289,
          663107.4500000002,
          613273.9700000007,
          261906.8799999999,
          4513420.629999995,
          1309990.0299999993,
          3262.6999999999534,
          592887.7599999998,
          252363,
          26331.090000000026,
          135914.96999999997,
          90992,
          220721,
          68037.1000000001,
          864118.55,
          588360.7999999998,
          143620.1000000001,
          509293.73,
          2185995.5999999996,
          269703.70999999996,
          320006.17999999993,
          839274,
          1068445.79,
          39565,
          141442.39000000013,
          502304.08999999985,
          1022220,
          144468.3999999999,
          1450185.9899999984,
          38875.01000000024,
          473597,
          594921.7200000002,
          1424101.9500000002,
          59790,
          68756.20999999996,
          1019972,
          454817.95999999903,
          121162.48999999976,
          102332.4700000002,
          24389.650000000373,
          779405.0800000001,
          45307,
          110630.5,
          29585.25,
          26552.199999999953,
          82197.5,
          244585.3999999985,
          2563587.130000001,
          639675.1500000004,
          3063448.7300000004,
          211100,
          3251.4000000000233,
          41350,
          295363.40000000224,
          131196.29000000004,
          11013991.020000003,
          317980.79000000004,
          39749.29999999999,
          426399.56000000006,
          7988423.269999996,
          229967.93000000017,
          269505.5,
          2694998.960000001,
          486532.76999999955,
          122884.8999999999,
          47851.37000000005,
          288341.3900000006,
          110885.75,
          835036.75,
          164329.00999999978,
          269899,
          7921.699999999953,
          118071.60999999987,
          71053.01999999955,
          238828,
          88483.47999999998,
          224729.56000000006,
          1376801.75,
          108878,
          889013.4000000004,
          8288,
          17843.5,
          86158.19999999995,
          436121,
          225.5,
          355561.5299999998,
          178046.2999999998,
          184784.6299999999,
          182352,
          409241.47000000067,
          103900,
          178101.72000000067,
          7745.600000000093,
          60021.10000000009,
          251228.3700000001,
          54046.09000000078,
          721119,
          101892.89999999997,
          368789.95999999996,
          59504,
          92747.3999999999,
          228122.75,
          11434.580000000075,
          4518.0999999996275,
          382183.7000000002,
          16792.5,
          382717.3499999996,
          125000.16000000015,
          286560.66000000015,
          89729.91000000003,
          114523,
          20883.310000000056,
          59491.90000000037,
          983890.3900000006,
          226196.81000000006,
          169217.25,
          143395.0599999996,
          242710,
          155252.6900000004,
          55863.10000000009,
          22313,
          69862,
          123661.26000000001,
          34188.60000000149,
          1302659.0899999999,
          264059.47000000067,
          104477.2200000002,
          47558.90000000002,
          204645.16999999993,
          81085,
          1660631.08,
          2614796,
          1744869.2000000002,
          267627.73,
          204032.3700000001,
          16958.800000000745,
          540648.5,
          196602.78000000003,
          125200,
          478961,
          55888.25,
          45164.689999999944,
          168667,
          133254.3599999994,
          1889797.0999999996,
          110330.16000000015,
          235880.04000000004,
          91902.28000000026,
          79300,
          459371.43000000017,
          146044.39000000013,
          143962.94999999972,
          525582,
          126244.46999999974,
          1026034.6999999993,
          3216.899999999907,
          2761043.4499999993,
          478336.0099999998,
          361730.47,
          83427.1000000001,
          926667.7300000004,
          485663.25,
          78676.05000000005,
          231877,
          561968.2000000002,
          148524,
          146427.60999999987,
          178807.1400000006,
          608594,
          342595.2399999993,
          144539.6000000001,
          1286470,
          20012.5,
          81908.15999999968,
          586446.9800000004,
          452293.5700000003,
          137835.19999999995,
          6014.799999999988,
          2166564.219999999,
          371499
         ],
         "yaxis": "y"
        }
       ],
       "layout": {
        "legend": {
         "tracegroupgap": 0
        },
        "template": {
         "data": {
          "bar": [
           {
            "error_x": {
             "color": "#2a3f5f"
            },
            "error_y": {
             "color": "#2a3f5f"
            },
            "marker": {
             "line": {
              "color": "#E5ECF6",
              "width": 0.5
             },
             "pattern": {
              "fillmode": "overlay",
              "size": 10,
              "solidity": 0.2
             }
            },
            "type": "bar"
           }
          ],
          "barpolar": [
           {
            "marker": {
             "line": {
              "color": "#E5ECF6",
              "width": 0.5
             },
             "pattern": {
              "fillmode": "overlay",
              "size": 10,
              "solidity": 0.2
             }
            },
            "type": "barpolar"
           }
          ],
          "carpet": [
           {
            "aaxis": {
             "endlinecolor": "#2a3f5f",
             "gridcolor": "white",
             "linecolor": "white",
             "minorgridcolor": "white",
             "startlinecolor": "#2a3f5f"
            },
            "baxis": {
             "endlinecolor": "#2a3f5f",
             "gridcolor": "white",
             "linecolor": "white",
             "minorgridcolor": "white",
             "startlinecolor": "#2a3f5f"
            },
            "type": "carpet"
           }
          ],
          "choropleth": [
           {
            "colorbar": {
             "outlinewidth": 0,
             "ticks": ""
            },
            "type": "choropleth"
           }
          ],
          "contour": [
           {
            "colorbar": {
             "outlinewidth": 0,
             "ticks": ""
            },
            "colorscale": [
             [
              0,
              "#0d0887"
             ],
             [
              0.1111111111111111,
              "#46039f"
             ],
             [
              0.2222222222222222,
              "#7201a8"
             ],
             [
              0.3333333333333333,
              "#9c179e"
             ],
             [
              0.4444444444444444,
              "#bd3786"
             ],
             [
              0.5555555555555556,
              "#d8576b"
             ],
             [
              0.6666666666666666,
              "#ed7953"
             ],
             [
              0.7777777777777778,
              "#fb9f3a"
             ],
             [
              0.8888888888888888,
              "#fdca26"
             ],
             [
              1,
              "#f0f921"
             ]
            ],
            "type": "contour"
           }
          ],
          "contourcarpet": [
           {
            "colorbar": {
             "outlinewidth": 0,
             "ticks": ""
            },
            "type": "contourcarpet"
           }
          ],
          "heatmap": [
           {
            "colorbar": {
             "outlinewidth": 0,
             "ticks": ""
            },
            "colorscale": [
             [
              0,
              "#0d0887"
             ],
             [
              0.1111111111111111,
              "#46039f"
             ],
             [
              0.2222222222222222,
              "#7201a8"
             ],
             [
              0.3333333333333333,
              "#9c179e"
             ],
             [
              0.4444444444444444,
              "#bd3786"
             ],
             [
              0.5555555555555556,
              "#d8576b"
             ],
             [
              0.6666666666666666,
              "#ed7953"
             ],
             [
              0.7777777777777778,
              "#fb9f3a"
             ],
             [
              0.8888888888888888,
              "#fdca26"
             ],
             [
              1,
              "#f0f921"
             ]
            ],
            "type": "heatmap"
           }
          ],
          "heatmapgl": [
           {
            "colorbar": {
             "outlinewidth": 0,
             "ticks": ""
            },
            "colorscale": [
             [
              0,
              "#0d0887"
             ],
             [
              0.1111111111111111,
              "#46039f"
             ],
             [
              0.2222222222222222,
              "#7201a8"
             ],
             [
              0.3333333333333333,
              "#9c179e"
             ],
             [
              0.4444444444444444,
              "#bd3786"
             ],
             [
              0.5555555555555556,
              "#d8576b"
             ],
             [
              0.6666666666666666,
              "#ed7953"
             ],
             [
              0.7777777777777778,
              "#fb9f3a"
             ],
             [
              0.8888888888888888,
              "#fdca26"
             ],
             [
              1,
              "#f0f921"
             ]
            ],
            "type": "heatmapgl"
           }
          ],
          "histogram": [
           {
            "marker": {
             "pattern": {
              "fillmode": "overlay",
              "size": 10,
              "solidity": 0.2
             }
            },
            "type": "histogram"
           }
          ],
          "histogram2d": [
           {
            "colorbar": {
             "outlinewidth": 0,
             "ticks": ""
            },
            "colorscale": [
             [
              0,
              "#0d0887"
             ],
             [
              0.1111111111111111,
              "#46039f"
             ],
             [
              0.2222222222222222,
              "#7201a8"
             ],
             [
              0.3333333333333333,
              "#9c179e"
             ],
             [
              0.4444444444444444,
              "#bd3786"
             ],
             [
              0.5555555555555556,
              "#d8576b"
             ],
             [
              0.6666666666666666,
              "#ed7953"
             ],
             [
              0.7777777777777778,
              "#fb9f3a"
             ],
             [
              0.8888888888888888,
              "#fdca26"
             ],
             [
              1,
              "#f0f921"
             ]
            ],
            "type": "histogram2d"
           }
          ],
          "histogram2dcontour": [
           {
            "colorbar": {
             "outlinewidth": 0,
             "ticks": ""
            },
            "colorscale": [
             [
              0,
              "#0d0887"
             ],
             [
              0.1111111111111111,
              "#46039f"
             ],
             [
              0.2222222222222222,
              "#7201a8"
             ],
             [
              0.3333333333333333,
              "#9c179e"
             ],
             [
              0.4444444444444444,
              "#bd3786"
             ],
             [
              0.5555555555555556,
              "#d8576b"
             ],
             [
              0.6666666666666666,
              "#ed7953"
             ],
             [
              0.7777777777777778,
              "#fb9f3a"
             ],
             [
              0.8888888888888888,
              "#fdca26"
             ],
             [
              1,
              "#f0f921"
             ]
            ],
            "type": "histogram2dcontour"
           }
          ],
          "mesh3d": [
           {
            "colorbar": {
             "outlinewidth": 0,
             "ticks": ""
            },
            "type": "mesh3d"
           }
          ],
          "parcoords": [
           {
            "line": {
             "colorbar": {
              "outlinewidth": 0,
              "ticks": ""
             }
            },
            "type": "parcoords"
           }
          ],
          "pie": [
           {
            "automargin": true,
            "type": "pie"
           }
          ],
          "scatter": [
           {
            "fillpattern": {
             "fillmode": "overlay",
             "size": 10,
             "solidity": 0.2
            },
            "type": "scatter"
           }
          ],
          "scatter3d": [
           {
            "line": {
             "colorbar": {
              "outlinewidth": 0,
              "ticks": ""
             }
            },
            "marker": {
             "colorbar": {
              "outlinewidth": 0,
              "ticks": ""
             }
            },
            "type": "scatter3d"
           }
          ],
          "scattercarpet": [
           {
            "marker": {
             "colorbar": {
              "outlinewidth": 0,
              "ticks": ""
             }
            },
            "type": "scattercarpet"
           }
          ],
          "scattergeo": [
           {
            "marker": {
             "colorbar": {
              "outlinewidth": 0,
              "ticks": ""
             }
            },
            "type": "scattergeo"
           }
          ],
          "scattergl": [
           {
            "marker": {
             "colorbar": {
              "outlinewidth": 0,
              "ticks": ""
             }
            },
            "type": "scattergl"
           }
          ],
          "scattermapbox": [
           {
            "marker": {
             "colorbar": {
              "outlinewidth": 0,
              "ticks": ""
             }
            },
            "type": "scattermapbox"
           }
          ],
          "scatterpolar": [
           {
            "marker": {
             "colorbar": {
              "outlinewidth": 0,
              "ticks": ""
             }
            },
            "type": "scatterpolar"
           }
          ],
          "scatterpolargl": [
           {
            "marker": {
             "colorbar": {
              "outlinewidth": 0,
              "ticks": ""
             }
            },
            "type": "scatterpolargl"
           }
          ],
          "scatterternary": [
           {
            "marker": {
             "colorbar": {
              "outlinewidth": 0,
              "ticks": ""
             }
            },
            "type": "scatterternary"
           }
          ],
          "surface": [
           {
            "colorbar": {
             "outlinewidth": 0,
             "ticks": ""
            },
            "colorscale": [
             [
              0,
              "#0d0887"
             ],
             [
              0.1111111111111111,
              "#46039f"
             ],
             [
              0.2222222222222222,
              "#7201a8"
             ],
             [
              0.3333333333333333,
              "#9c179e"
             ],
             [
              0.4444444444444444,
              "#bd3786"
             ],
             [
              0.5555555555555556,
              "#d8576b"
             ],
             [
              0.6666666666666666,
              "#ed7953"
             ],
             [
              0.7777777777777778,
              "#fb9f3a"
             ],
             [
              0.8888888888888888,
              "#fdca26"
             ],
             [
              1,
              "#f0f921"
             ]
            ],
            "type": "surface"
           }
          ],
          "table": [
           {
            "cells": {
             "fill": {
              "color": "#EBF0F8"
             },
             "line": {
              "color": "white"
             }
            },
            "header": {
             "fill": {
              "color": "#C8D4E3"
             },
             "line": {
              "color": "white"
             }
            },
            "type": "table"
           }
          ]
         },
         "layout": {
          "annotationdefaults": {
           "arrowcolor": "#2a3f5f",
           "arrowhead": 0,
           "arrowwidth": 1
          },
          "autotypenumbers": "strict",
          "coloraxis": {
           "colorbar": {
            "outlinewidth": 0,
            "ticks": ""
           }
          },
          "colorscale": {
           "diverging": [
            [
             0,
             "#8e0152"
            ],
            [
             0.1,
             "#c51b7d"
            ],
            [
             0.2,
             "#de77ae"
            ],
            [
             0.3,
             "#f1b6da"
            ],
            [
             0.4,
             "#fde0ef"
            ],
            [
             0.5,
             "#f7f7f7"
            ],
            [
             0.6,
             "#e6f5d0"
            ],
            [
             0.7,
             "#b8e186"
            ],
            [
             0.8,
             "#7fbc41"
            ],
            [
             0.9,
             "#4d9221"
            ],
            [
             1,
             "#276419"
            ]
           ],
           "sequential": [
            [
             0,
             "#0d0887"
            ],
            [
             0.1111111111111111,
             "#46039f"
            ],
            [
             0.2222222222222222,
             "#7201a8"
            ],
            [
             0.3333333333333333,
             "#9c179e"
            ],
            [
             0.4444444444444444,
             "#bd3786"
            ],
            [
             0.5555555555555556,
             "#d8576b"
            ],
            [
             0.6666666666666666,
             "#ed7953"
            ],
            [
             0.7777777777777778,
             "#fb9f3a"
            ],
            [
             0.8888888888888888,
             "#fdca26"
            ],
            [
             1,
             "#f0f921"
            ]
           ],
           "sequentialminus": [
            [
             0,
             "#0d0887"
            ],
            [
             0.1111111111111111,
             "#46039f"
            ],
            [
             0.2222222222222222,
             "#7201a8"
            ],
            [
             0.3333333333333333,
             "#9c179e"
            ],
            [
             0.4444444444444444,
             "#bd3786"
            ],
            [
             0.5555555555555556,
             "#d8576b"
            ],
            [
             0.6666666666666666,
             "#ed7953"
            ],
            [
             0.7777777777777778,
             "#fb9f3a"
            ],
            [
             0.8888888888888888,
             "#fdca26"
            ],
            [
             1,
             "#f0f921"
            ]
           ]
          },
          "colorway": [
           "#636efa",
           "#EF553B",
           "#00cc96",
           "#ab63fa",
           "#FFA15A",
           "#19d3f3",
           "#FF6692",
           "#B6E880",
           "#FF97FF",
           "#FECB52"
          ],
          "font": {
           "color": "#2a3f5f"
          },
          "geo": {
           "bgcolor": "white",
           "lakecolor": "white",
           "landcolor": "#E5ECF6",
           "showlakes": true,
           "showland": true,
           "subunitcolor": "white"
          },
          "hoverlabel": {
           "align": "left"
          },
          "hovermode": "closest",
          "mapbox": {
           "style": "light"
          },
          "paper_bgcolor": "white",
          "plot_bgcolor": "#E5ECF6",
          "polar": {
           "angularaxis": {
            "gridcolor": "white",
            "linecolor": "white",
            "ticks": ""
           },
           "bgcolor": "#E5ECF6",
           "radialaxis": {
            "gridcolor": "white",
            "linecolor": "white",
            "ticks": ""
           }
          },
          "scene": {
           "xaxis": {
            "backgroundcolor": "#E5ECF6",
            "gridcolor": "white",
            "gridwidth": 2,
            "linecolor": "white",
            "showbackground": true,
            "ticks": "",
            "zerolinecolor": "white"
           },
           "yaxis": {
            "backgroundcolor": "#E5ECF6",
            "gridcolor": "white",
            "gridwidth": 2,
            "linecolor": "white",
            "showbackground": true,
            "ticks": "",
            "zerolinecolor": "white"
           },
           "zaxis": {
            "backgroundcolor": "#E5ECF6",
            "gridcolor": "white",
            "gridwidth": 2,
            "linecolor": "white",
            "showbackground": true,
            "ticks": "",
            "zerolinecolor": "white"
           }
          },
          "shapedefaults": {
           "line": {
            "color": "#2a3f5f"
           }
          },
          "ternary": {
           "aaxis": {
            "gridcolor": "white",
            "linecolor": "white",
            "ticks": ""
           },
           "baxis": {
            "gridcolor": "white",
            "linecolor": "white",
            "ticks": ""
           },
           "bgcolor": "#E5ECF6",
           "caxis": {
            "gridcolor": "white",
            "linecolor": "white",
            "ticks": ""
           }
          },
          "title": {
           "x": 0.05
          },
          "xaxis": {
           "automargin": true,
           "gridcolor": "white",
           "linecolor": "white",
           "ticks": "",
           "title": {
            "standoff": 15
           },
           "zerolinecolor": "white",
           "zerolinewidth": 2
          },
          "yaxis": {
           "automargin": true,
           "gridcolor": "white",
           "linecolor": "white",
           "ticks": "",
           "title": {
            "standoff": 15
           },
           "zerolinecolor": "white",
           "zerolinewidth": 2
          }
         }
        },
        "title": {
         "text": "Winning Margin with Number of Bids"
        },
        "xaxis": {
         "anchor": "y",
         "domain": [
          0,
          1
         ],
         "title": {
          "text": "Num Bids"
         }
        },
        "yaxis": {
         "anchor": "x",
         "domain": [
          0,
          1
         ],
         "title": {
          "text": "Winning Margin"
         }
        }
       }
      }
     },
     "metadata": {},
     "output_type": "display_data"
    }
   ],
   "source": [
    "#Winning Margin\n",
    "mbids = bids[['Auction', 'Num Bids', 'Lowest Bid', '2_bid']].copy()\n",
    "mbids = mbids.dropna(axis=0, how='any', inplace=False)\n",
    "mbids['Winning Margin'] = mbids['2_bid'] - mbids['Lowest Bid']\n",
    "\n",
    "fig = px.scatter(\n",
    "    mbids,\n",
    "    x=\"Num Bids\", \n",
    "    y=\"Winning Margin\",  \n",
    "    hover_data=[\"Auction\"],  \n",
    "    labels={\"x\": \"Number of bids\", \"y\": \"Winning margin\"}, \n",
    "    title=\"Winning Margin with Number of Bids\"\n",
    ")\n",
    "fig.show()\n"
   ]
  },
  {
   "cell_type": "code",
   "execution_count": 32,
   "metadata": {},
   "outputs": [],
   "source": [
    "#OPTIONAL: Drop outliers where firms significantly over or underbid.\n",
    "\n",
    "outlier_col = 'Lowest Bid'\n",
    "\n",
    "Q1 = bids[outlier_col].quantile(0.25)  \n",
    "Q3 = bids[outlier_col].quantile(0.75)  # Third quartile (75th percentile)\n",
    "IQR = Q3 - Q1\n",
    "\n",
    "# Define bounds\n",
    "lower = Q1 - 1.5 * IQR\n",
    "upper = Q3 + 1.5 * IQR\n",
    "\n",
    "bids = bids[(bids[outlier_col] >= lower) & (bids[outlier_col] <= upper)]\n"
   ]
  },
  {
   "cell_type": "code",
   "execution_count": 12,
   "metadata": {},
   "outputs": [
    {
     "data": {
      "text/html": [
       "<div>\n",
       "<style scoped>\n",
       "    .dataframe tbody tr th:only-of-type {\n",
       "        vertical-align: middle;\n",
       "    }\n",
       "\n",
       "    .dataframe tbody tr th {\n",
       "        vertical-align: top;\n",
       "    }\n",
       "\n",
       "    .dataframe thead th {\n",
       "        text-align: right;\n",
       "    }\n",
       "</style>\n",
       "<table border=\"1\" class=\"dataframe\">\n",
       "  <thead>\n",
       "    <tr style=\"text-align: right;\">\n",
       "      <th></th>\n",
       "      <th>Num Bids</th>\n",
       "      <th>Lowest Bid</th>\n",
       "    </tr>\n",
       "  </thead>\n",
       "  <tbody>\n",
       "    <tr>\n",
       "      <th>205</th>\n",
       "      <td>1</td>\n",
       "      <td>11849087.88</td>\n",
       "    </tr>\n",
       "    <tr>\n",
       "      <th>323</th>\n",
       "      <td>1</td>\n",
       "      <td>1135158.00</td>\n",
       "    </tr>\n",
       "    <tr>\n",
       "      <th>325</th>\n",
       "      <td>1</td>\n",
       "      <td>3289092.32</td>\n",
       "    </tr>\n",
       "    <tr>\n",
       "      <th>328</th>\n",
       "      <td>1</td>\n",
       "      <td>7041298.06</td>\n",
       "    </tr>\n",
       "    <tr>\n",
       "      <th>65</th>\n",
       "      <td>1</td>\n",
       "      <td>1096643.80</td>\n",
       "    </tr>\n",
       "  </tbody>\n",
       "</table>\n",
       "</div>"
      ],
      "text/plain": [
       "     Num Bids   Lowest Bid\n",
       "205         1  11849087.88\n",
       "323         1   1135158.00\n",
       "325         1   3289092.32\n",
       "328         1   7041298.06\n",
       "65          1   1096643.80"
      ]
     },
     "execution_count": 12,
     "metadata": {},
     "output_type": "execute_result"
    }
   ],
   "source": [
    "data = bids[['Num Bids','Lowest Bid']].copy()\n",
    "data = data.sort_values(by='Num Bids')\n",
    "data.head()"
   ]
  },
  {
   "cell_type": "code",
   "execution_count": 13,
   "metadata": {},
   "outputs": [
    {
     "data": {
      "text/plain": [
       "Num Bids\n",
       "3     102\n",
       "2      95\n",
       "1      63\n",
       "4      61\n",
       "5      36\n",
       "6      18\n",
       "7       9\n",
       "8       4\n",
       "10      2\n",
       "Name: count, dtype: int64"
      ]
     },
     "execution_count": 13,
     "metadata": {},
     "output_type": "execute_result"
    }
   ],
   "source": [
    "data['Num Bids'].value_counts()"
   ]
  },
  {
   "cell_type": "code",
   "execution_count": 14,
   "metadata": {},
   "outputs": [],
   "source": [
    "#Pooling together 7 and 8 bids\n",
    "data['Num Bids'] = data['Num Bids'].replace([6,8], 7)"
   ]
  },
  {
   "cell_type": "code",
   "execution_count": 22,
   "metadata": {},
   "outputs": [],
   "source": [
    "#Prepare data from full dataset\n",
    "N = data.to_numpy()[:, 0]\n",
    "W = data.to_numpy()[:, 1]\n",
    "Ns = data['Num Bids'].quantile([0.25, 0.5, 0.75]).values.astype(int)"
   ]
  },
  {
   "cell_type": "code",
   "execution_count": 23,
   "metadata": {},
   "outputs": [
    {
     "name": "stderr",
     "output_type": "stream",
     "text": [
      "/var/folders/1p/vc1972d933j3yxvvwfgbm0vh0000gn/T/ipykernel_794/3787170380.py:35: RuntimeWarning:\n",
      "\n",
      "divide by zero encountered in power\n",
      "\n"
     ]
    },
    {
     "data": {
      "image/png": "[encoded data removed]",
      "text/plain": [
       "<Figure size 800x800 with 2 Axes>"
      ]
     },
     "metadata": {},
     "output_type": "display_data"
    },
    {
     "data": {
      "image/png": "[encoded data removed]",
      "text/plain": [
       "<Figure size 800x800 with 3 Axes>"
      ]
     },
     "metadata": {},
     "output_type": "display_data"
    },
    {
     "data": {
      "image/png": "[encoded data removed]",
      "text/plain": [
       "<Figure size 800x1000 with 3 Axes>"
      ]
     },
     "metadata": {},
     "output_type": "display_data"
    }
   ],
   "source": [
    "fig, axes = plt.subplots(nrows=2, ncols=1, figsize=(8, 8), sharex=True)\n",
    "bandwidth_scale = 0.35\n",
    "kdes = []\n",
    "ws = []\n",
    "c_wins = []\n",
    "for i in Ns:\n",
    "    w = W[N == i]\n",
    "    ws.append(w)\n",
    "    # Estimate empirical CDF and PDF of winning bids\n",
    "    ecdf_w = ECDF(w)\n",
    "    F1 = ecdf_w.y\n",
    "    Fw = F1[1:]\n",
    "    kde = gaussian_kde(w)\n",
    "    kde.set_bandwidth(bw_method=kde.factor * bandwidth_scale)\n",
    "    kdes.append(kde)\n",
    "    fw = kde.evaluate(w) #Kernel density estimation\n",
    "        \n",
    "    # Estimate empirical CDF and PDF of bids\n",
    "    #Fs=1-(1-Fw)**(1/i)\n",
    "    #fs=(1/i)*fw*(1-Fw)**((1/i)-1)\n",
    "\n",
    "    #Estimate the cost corresponding to the winning bid, I call it v_win. These are also known as Pseudo values.\n",
    "    c_win= w - (((1/(i-1))* (1-Fw))/fw)\n",
    "    c_wins.append(c_win)\n",
    "\n",
    "    #Estimate the pseudo CDF and pseudo PDF\n",
    "    Fz=pseudo_cdf(c_win)\n",
    "    ecdf_cw = ECDF(c_win)\n",
    "    F1 = ecdf_cw.y\n",
    "    Fz = F1[1:]\n",
    "    fz=pseudo_pdf(c_win)\n",
    "    \n",
    "    #Estimate the CDF and PDF of cost\n",
    "    Fc=1-(1-Fz)**(1/i)\n",
    "    fc=(((1-Fz)**((1/i)-1))*fz)/i\n",
    "    fc[-1]=0    \n",
    "   \n",
    "    # Plotting the stacked CDFs\n",
    "    axes[0].plot(np.insert(np.sort(c_win), 0, 0), np.insert(Fc, 0, 0), label=f'N={i}', drawstyle='steps-post')\n",
    "\n",
    "    # Plotting the stacked PDFs\n",
    "    axes[1].plot(np.insert(np.sort(c_win), 0, 0), np.insert(fc, 0, 0), label=f'N={i}', drawstyle='steps-post')\n",
    "\n",
    "\n",
    "# Set labels and legends for the first subplot\n",
    "axes[0].set_ylabel(\"F(c)\")\n",
    "axes[0].set_title(\"Stacked CDFs\")\n",
    "axes[0].legend(loc='upper left', bbox_to_anchor=(1, 1), prop={'size': 8})\n",
    "\n",
    "# Set labels and legends for the second subplot\n",
    "axes[1].set_xlabel(\"Bidders' cost, $c$\")\n",
    "axes[1].set_ylabel(\"f(c)\")\n",
    "axes[1].set_title(\"Stacked PDFs\")\n",
    "axes[1].legend(loc='upper left', bbox_to_anchor=(1, 1), prop={'size': 8})\n",
    "\n",
    "plt.tight_layout()\n",
    "plt.show()\n",
    "\n",
    "m = range(len(kdes))\n",
    "fig2, axes2 = plt.subplots(nrows=len(Ns-1), ncols=1, figsize=(8, 8), sharex=True)\n",
    "for k in m:\n",
    "    x = np.linspace(min(ws[k]), max(ws[k]), 100)\n",
    "    axes2[k].plot(x, kdes[k](x), label=f'Kernel Density Estimate: N = {Ns[k]}')\n",
    "    axes2[k].hist(ws[k], alpha = 0.5, bins = 20, density = True)\n",
    "    axes2[k].legend()\n",
    "    axes2[k].set_ylabel('Density')\n",
    "\n",
    "plt.xlabel('Observed Winning Bids')\n",
    "plt.tight_layout()\n",
    "plt.show()\n",
    "\n",
    "\n",
    "fig3, axes3 = plt.subplots(nrows=len(Ns), ncols=1, figsize=(8, 10), sharex=True)\n",
    "colors = ['blue', 'green', 'orange']  # Colors for different N values\n",
    "\n",
    "for k in m:\n",
    "    axes3[k].scatter(c_wins[k], ws[k], label=f'N = {Ns[k]}', color=colors[k], alpha=0.7, edgecolor='black')\n",
    "    z = np.polyfit(c_wins[k], ws[k], 1)  \n",
    "    p = np.poly1d(z)\n",
    "    axes3[k].plot(c_wins[k], p(c_wins[k]), color=colors[k], linestyle='--', label=f'Trend (N={Ns[k]})')\n",
    "    axes3[k].legend()\n",
    "    axes3[k].set_ylabel('Winning Bid')\n",
    "    axes3[k].grid(True, linestyle='--', alpha=0.6)\n",
    "\n",
    "plt.xlabel('Estimated Costs')\n",
    "plt.suptitle('Winning Bids vs. Estimated Costs by Number of Bidders', fontsize=14, fontweight='bold')\n",
    "plt.tight_layout(rect=[0, 0, 1, 0.95]) \n",
    "plt.show()"
   ]
  }
 ],
 "metadata": {
  "kernelspec": {
   "display_name": "venv",
   "language": "python",
   "name": "python3"
  },
  "language_info": {
   "codemirror_mode": {
    "name": "ipython",
    "version": 3
   },
   "file_extension": ".py",
   "mimetype": "text/x-python",
   "name": "python",
   "nbconvert_exporter": "python",
   "pygments_lexer": "ipython3",
   "version": "3.9.6"
  }
 },
 "nbformat": 4,
 "nbformat_minor": 2
}
